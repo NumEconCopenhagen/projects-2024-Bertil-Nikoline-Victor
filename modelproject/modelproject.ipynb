{
 "cells": [
  {
   "cell_type": "markdown",
   "metadata": {},
   "source": [
    "# A Malthus economy with technological growth"
   ]
  },
  {
   "cell_type": "markdown",
   "metadata": {},
   "source": [
    "**Time:** Discrete and represented by $ t \\in {0,1,...,\\infty} $"
   ]
  },
  {
   "cell_type": "markdown",
   "metadata": {},
   "source": [
    "**Production function:** Cobb-Douglas\n",
    "$$ Y_t = L_t^{1-\\alpha}(AX)^\\alpha $$\n",
    "$A$ and $X$ are independent of time. $A$ is the technology-level and $X$ is the amount of land available.\n",
    "\n",
    "The production function can also be written as production pr. capita, $y_t$, which is found by dividing the equation above by $L_t$:\n",
    "$$ y_t = \\frac{Y_t}{L_t} = (\\frac{AX}{L_t})^\\alpha $$"
   ]
  },
  {
   "cell_type": "markdown",
   "metadata": {},
   "source": [
    "**Fertility curve:**\n",
    "$$n_t = \\frac{1-\\beta}{\\lambda}y_t (1-\\tau)$$\n",
    "\n",
    "In the equation for the fertility-curve the expression $1-\\beta$ changes with preferences/culture about having children, $\\lambda$ represents the lower costs of having children and $\\tau$ represents taxes in society.\n"
   ]
  },
  {
   "cell_type": "markdown",
   "metadata": {},
   "source": [
    "**Transition-equation:**\n",
    "$$L_{t+1} = n_t L_t + (1-\\mu) L_t$$\n",
    "In the transition equation above $L_0$ is given."
   ]
  },
  {
   "cell_type": "markdown",
   "metadata": {},
   "source": [
    "A key assumption in the Malthus economy is that the birth rate, $n_t$, rises with income pr. capita, $y_t$, such that in steady state the birth rate is going to be: $$ n^* = \\eta * y^* $$ $\\eta$ is a positive parameter."
   ]
  },
  {
   "cell_type": "markdown",
   "metadata": {},
   "source": [
    "## Analytical solution"
   ]
  },
  {
   "cell_type": "markdown",
   "metadata": {},
   "source": [
    "To characterize the solution, first derive a steady state equation as a function of a parameter using Sympy.solve and then turn it into a python function by Sympy.lambdify. See the lecture notes for details."
   ]
  },
  {
   "cell_type": "code",
   "execution_count": 1,
   "metadata": {},
   "outputs": [
    {
     "name": "stdout",
     "output_type": "stream",
     "text": [
      "To derieve the analytical steady state the transition equation describing the change in labor force will be used:\n"
     ]
    },
    {
     "data": {
      "text/markdown": [
       "$ \\Large{ L_{t+1} = L_{t} \\left(1 - \\mu\\right) + L_{t}^{1 - \\alpha} \\eta \\left(A X\\right)^{\\alpha}}$"
      ],
      "text/plain": [
       "<IPython.core.display.Markdown object>"
      ]
     },
     "metadata": {},
     "output_type": "display_data"
    }
   ],
   "source": [
    "import ModelClass\n",
    "import sympy as sm\n",
    "from IPython.display import display, Markdown\n",
    "\n",
    "model = ModelClass.MalthusModel()\n",
    "\n",
    "transition_eq = model.symbolic_L()\n",
    "\n",
    "latex_with_code = r\"$ \\Large{ L_{t+1} = \" + sm.latex(transition_eq) + r\"}$\"\n",
    "\n",
    "print(\"To derieve the analytical steady state the transition equation describing the change in labor force will be used:\")\n",
    "display(Markdown(latex_with_code))"
   ]
  },
  {
   "cell_type": "code",
   "execution_count": 7,
   "metadata": {},
   "outputs": [
    {
     "name": "stdout",
     "output_type": "stream",
     "text": [
      "Steady state expression for the labor force:\n"
     ]
    },
    {
     "data": {
      "text/markdown": [
       "$ \\Large{ L^{*} = \\left(\\frac{\\eta \\left(A X\\right)^{\\alpha}}{\\mu}\\right)^{\\frac{1}{\\alpha}}}$"
      ],
      "text/plain": [
       "<IPython.core.display.Markdown object>"
      ]
     },
     "metadata": {},
     "output_type": "display_data"
    },
    {
     "name": "stdout",
     "output_type": "stream",
     "text": [
      "Steady state expression for output pr. worker:\n"
     ]
    },
    {
     "data": {
      "text/markdown": [
       "$ \\Large{ y^{*} = \\left(A X \\left(\\frac{\\eta \\left(A X\\right)^{\\alpha}}{\\mu}\\right)^{- \\frac{1}{\\alpha}}\\right)^{\\alpha}}$"
      ],
      "text/plain": [
       "<IPython.core.display.Markdown object>"
      ]
     },
     "metadata": {},
     "output_type": "display_data"
    }
   ],
   "source": [
    "# Steady state expression for labor force\n",
    "L_ss_symbolic = model.symbolic_ss_L()\n",
    "\n",
    "latex_with_code = r\"$ \\Large{ L^{*} = \" + sm.latex(L_ss_symbolic) + r\"}$\"\n",
    "\n",
    "print(\"Steady state expression for the labor force:\")\n",
    "display(Markdown(latex_with_code))\n",
    "\n",
    "\n",
    "# Steady state expression for output pr. worker\n",
    "y_ss_symbolic = model.symbolic_ss_y()\n",
    "\n",
    "latex_with_code = r\"$ \\Large{ y^{*} = \" + sm.latex(y_ss_symbolic) + r\"}$\"\n",
    "\n",
    "print(\"Steady state expression for output pr. worker:\")\n",
    "display(Markdown(latex_with_code))\n"
   ]
  },
  {
   "cell_type": "markdown",
   "metadata": {},
   "source": [
    "It's possible to simplify the expression for $L^*$ and $y^*$ a lot, something which symbolic python is not great at."
   ]
  },
  {
   "cell_type": "markdown",
   "metadata": {},
   "source": [
    "## Numerical solution to the Malthus model"
   ]
  },
  {
   "cell_type": "markdown",
   "metadata": {},
   "source": [
    "To begin with we find the amount of labor force, $L^*$, in the steady state.\n",
    "\n",
    "In the code below we have used **optimize.root** in the scipy to find the optimal value of $L_t$ where the difference between $L_t$ and $L_{t+1}$ is equal to zero. In that scenario we have found the steady state value of $L^*$.\n",
    "\n",
    "In the **ModelClass.py** the parameters for the model have been defined, as well as the functions for the model.\n",
    "\n",
    "The model doesn't have any problem with convergence, but that is not surprising since it doesn't have multiple local minima which could \"confuse\" the optimization algorithm. However the optimization function **numerical_solution_steady_state** in the ModelClass has been implemented with **multi start**, so it should also be possible to find the global minima in case anyone wants to update the model where the optimization could be harder for the algorithm i.e. the case where there are multiple local minima."
   ]
  },
  {
   "cell_type": "code",
   "execution_count": 16,
   "metadata": {},
   "outputs": [
    {
     "name": "stdout",
     "output_type": "stream",
     "text": [
      "Steady state value for labor force: 2.5600000000\n",
      "Steady state value for output: 1.6000000000\n",
      "Steady state value for output pr. worker: 0.6250000000\n",
      "Steady state value for birth rate: 0.5000000000\n",
      "State state residual from the optimization algorithm: 0.0000000000\n"
     ]
    }
   ],
   "source": [
    "model = ModelClass.MalthusModel()\n",
    "\n",
    "labor_ss, output_ss, output_pr_worker_ss, birth_rate_ss, residual_ss = model.numerical_solution_steady_state()\n",
    "\n",
    "print(\"Steady state value for labor force:\", format(labor_ss[0], \".10f\"))\n",
    "print(\"Steady state value for output:\", format(output_ss[0], \".10f\"))\n",
    "print(\"Steady state value for output pr. worker:\", format(output_pr_worker_ss[0], \".10f\"))\n",
    "print(\"Steady state value for birth rate:\", format(birth_rate_ss[0], \".10f\"))\n",
    "print(\"State state residual from the optimization algorithm:\", format(residual_ss[0], \".10f\"))"
   ]
  },
  {
   "cell_type": "markdown",
   "metadata": {},
   "source": [
    "# Further analysis"
   ]
  },
  {
   "cell_type": "markdown",
   "metadata": {},
   "source": [
    "Make detailed vizualizations of how your model changes with parameter values. \n",
    "\n",
    "Try to make an extension of the model.\n",
    "\n",
    "**Extending the model with technological progress.**"
   ]
  },
  {
   "cell_type": "markdown",
   "metadata": {},
   "source": [
    "# Conclusion"
   ]
  },
  {
   "cell_type": "markdown",
   "metadata": {},
   "source": [
    "Add concise conclusion. "
   ]
  },
  {
   "cell_type": "markdown",
   "metadata": {},
   "source": [
    "# Ideas for extensions\n",
    "- Change of the production function to an i.e. CES production function or maybe another production function also.\n",
    "- Extension of the model with growth in technology\n",
    "\n",
    "\n"
   ]
  }
 ],
 "metadata": {
  "kernelspec": {
   "display_name": "base",
   "language": "python",
   "name": "python3"
  },
  "language_info": {
   "codemirror_mode": {
    "name": "ipython",
    "version": 3
   },
   "file_extension": ".py",
   "mimetype": "text/x-python",
   "name": "python",
   "nbconvert_exporter": "python",
   "pygments_lexer": "ipython3",
   "version": "3.11.7"
  },
  "toc-autonumbering": true,
  "vscode": {
   "interpreter": {
    "hash": "47ef90cdf3004d3f859f1fb202523c65c07ba7c22eefd261b181f4744e2d0403"
   }
  }
 },
 "nbformat": 4,
 "nbformat_minor": 4
}

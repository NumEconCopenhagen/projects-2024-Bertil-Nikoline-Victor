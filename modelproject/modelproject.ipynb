{
 "cells": [
  {
   "cell_type": "markdown",
   "metadata": {},
   "source": [
    "# Interactive Malthus Economy"
   ]
  },
  {
   "cell_type": "markdown",
   "metadata": {},
   "source": [
    "In the first part of the project the **basic Malthus model** is implemented with interactive graphs, so it's possible to add shocks to the emount of land (X) and the technology level (A). In the second part of the project the model is **extended to include technological growth**."
   ]
  },
  {
   "cell_type": "markdown",
   "metadata": {},
   "source": [
    "**Time:** Discrete and represented by $ t \\in {0,1,...,\\infty} $"
   ]
  },
  {
   "cell_type": "markdown",
   "metadata": {},
   "source": [
    "**Production function:** Cobb-Douglas\n",
    "$$ Y_t = L_t^{1-\\alpha}(AX)^\\alpha $$\n",
    "$A$ and $X$ are independent of time. $A$ is the technology-level and $X$ is the amount of land available.\n",
    "\n",
    "The production function can also be written as production pr. capita, $y_t$, which is found by dividing the equation above by $L_t$:\n",
    "$$ y_t = \\frac{Y_t}{L_t} = (\\frac{AX}{L_t})^\\alpha $$"
   ]
  },
  {
   "cell_type": "markdown",
   "metadata": {},
   "source": [
    "**Fertility curve:**\n",
    "$$n_t = \\frac{1-\\beta}{\\lambda}y_t (1-\\tau)$$\n",
    "\n",
    "In the equation for the fertility-curve the expression $1-\\beta$ changes with preferences/culture about having children, $\\lambda$ represents the lower costs of having children and $\\tau$ represents taxes in society.\n"
   ]
  },
  {
   "cell_type": "markdown",
   "metadata": {},
   "source": [
    "**Transition-equation:**\n",
    "$$L_{t+1} = n_t L_t + (1-\\mu) L_t$$\n",
    "In the transition equation above $L_0$ is given."
   ]
  },
  {
   "cell_type": "markdown",
   "metadata": {},
   "source": [
    "A key assumption in the Malthus economy is that the birth rate, $n_t$, rises with income pr. capita, $y_t$, such that in steady state the birth rate is going to be: $$ n^* = \\eta * y^* $$ $\\eta$ is a positive parameter."
   ]
  },
  {
   "cell_type": "markdown",
   "metadata": {},
   "source": [
    "## Analytical solution to the Malthus model"
   ]
  },
  {
   "cell_type": "markdown",
   "metadata": {},
   "source": [
    "To characterize the solution, first derive a steady state equation as a function of a parameter using Sympy.solve and then turn it into a python function by Sympy.lambdify. See the lecture notes for details."
   ]
  },
  {
   "cell_type": "code",
   "execution_count": 1,
   "metadata": {},
   "outputs": [],
   "source": [
    "# Importing packages\n",
    "import sympy as sm                                  # Symbolic python\n",
    "import ipywidgets as widgets                        # Widgets\n",
    "import seaborn as sns                               # Seaborn for graphs\n",
    "import matplotlib.pyplot as plt                     # Pyplot for plots\n",
    "from IPython.display import display, Markdown       # Display and markdown\n",
    "\n",
    "# Importing ModelClass\n",
    "import ModelClass"
   ]
  },
  {
   "cell_type": "code",
   "execution_count": 2,
   "metadata": {},
   "outputs": [
    {
     "name": "stdout",
     "output_type": "stream",
     "text": [
      "To derieve the analytical steady state the transition equation describing the change in labor force will be used:\n"
     ]
    },
    {
     "data": {
      "text/markdown": [
       "$ \\Large{ L_{t+1} = L_{t} \\left(1 - \\mu\\right) + L_{t}^{1 - \\alpha} \\eta \\left(A X\\right)^{\\alpha}}$"
      ],
      "text/plain": [
       "<IPython.core.display.Markdown object>"
      ]
     },
     "metadata": {},
     "output_type": "display_data"
    }
   ],
   "source": [
    "model = ModelClass.MalthusModel()\n",
    "\n",
    "transition_eq = model.symbolic_L()\n",
    "\n",
    "latex_with_code = r\"$ \\Large{ L_{t+1} = \" + sm.latex(transition_eq) + r\"}$\"\n",
    "\n",
    "print(\"To derieve the analytical steady state the transition equation describing the change in labor force will be used:\")\n",
    "display(Markdown(latex_with_code))"
   ]
  },
  {
   "cell_type": "code",
   "execution_count": 3,
   "metadata": {},
   "outputs": [
    {
     "name": "stdout",
     "output_type": "stream",
     "text": [
      "Steady state expression for the labor force:\n"
     ]
    },
    {
     "data": {
      "text/markdown": [
       "$ \\Large{ L^{*} = \\left(\\frac{\\eta \\left(A X\\right)^{\\alpha}}{\\mu}\\right)^{\\frac{1}{\\alpha}}}$"
      ],
      "text/plain": [
       "<IPython.core.display.Markdown object>"
      ]
     },
     "metadata": {},
     "output_type": "display_data"
    },
    {
     "name": "stdout",
     "output_type": "stream",
     "text": [
      "Steady state expression for output pr. worker:\n"
     ]
    },
    {
     "data": {
      "text/markdown": [
       "$ \\Large{ y^{*} = \\left(A X \\left(\\frac{\\eta \\left(A X\\right)^{\\alpha}}{\\mu}\\right)^{- \\frac{1}{\\alpha}}\\right)^{\\alpha}}$"
      ],
      "text/plain": [
       "<IPython.core.display.Markdown object>"
      ]
     },
     "metadata": {},
     "output_type": "display_data"
    }
   ],
   "source": [
    "# Steady state expression for labor force\n",
    "L_ss_symbolic = model.symbolic_ss_L()\n",
    "\n",
    "latex_with_code = r\"$ \\Large{ L^{*} = \" + sm.latex(L_ss_symbolic) + r\"}$\"\n",
    "\n",
    "print(\"Steady state expression for the labor force:\")\n",
    "display(Markdown(latex_with_code))\n",
    "\n",
    "\n",
    "# Steady state expression for output pr. worker\n",
    "y_ss_symbolic = model.symbolic_ss_y()\n",
    "\n",
    "latex_with_code = r\"$ \\Large{ y^{*} = \" + sm.latex(y_ss_symbolic) + r\"}$\"\n",
    "\n",
    "print(\"Steady state expression for output pr. worker:\")\n",
    "display(Markdown(latex_with_code))\n"
   ]
  },
  {
   "cell_type": "markdown",
   "metadata": {},
   "source": [
    "It's possible to simplify the expression for $L^*$ and $y^*$ a lot more than what has been done in the above. Something with symbolic python is not very good at simplifying \"complex\" expressions."
   ]
  },
  {
   "cell_type": "markdown",
   "metadata": {},
   "source": [
    "### Turning the symbolic math steady state expressions into python functions using lambdify"
   ]
  },
  {
   "cell_type": "code",
   "execution_count": 4,
   "metadata": {},
   "outputs": [
    {
     "name": "stdout",
     "output_type": "stream",
     "text": [
      "State state labor force: 1256.7396638226\n"
     ]
    }
   ],
   "source": [
    "# Labor force in steady state\n",
    "labor_force_ss_func = model.symbolic_ss_L_lambdify()\n",
    "\n",
    "values = model.val\n",
    "\n",
    "labor_force_ss = labor_force_ss_func(values.technology, values.land, values.alpha, values.mu, values.eta)\n",
    "\n",
    "print(\"State state labor force:\", format(labor_force_ss, \".10f\"))"
   ]
  },
  {
   "cell_type": "code",
   "execution_count": 5,
   "metadata": {},
   "outputs": [
    {
     "name": "stdout",
     "output_type": "stream",
     "text": [
      "State state output pr. worker: 0.3428571429\n"
     ]
    }
   ],
   "source": [
    "# Output pr. worker in steady state\n",
    "output_pr_worker_ss_func = model.symbolic_ss_y_lambdify()\n",
    "\n",
    "values = model.val\n",
    "\n",
    "output_pr_worker_ss = output_pr_worker_ss_func(values.technology, values.land, values.alpha, values.mu, values.eta)\n",
    "\n",
    "print(\"State state output pr. worker:\", format(output_pr_worker_ss, \".10f\"))"
   ]
  },
  {
   "cell_type": "markdown",
   "metadata": {},
   "source": [
    "## Numerical solution to the Malthus model"
   ]
  },
  {
   "cell_type": "markdown",
   "metadata": {},
   "source": [
    "To begin with we find the amount of labor force, $L^*$, in the steady state.\n",
    "\n",
    "In the code below we have used **optimize.root** in the scipy to find the optimal value of $L_t$ where the difference between $L_t$ and $L_{t+1}$ is equal to zero. In that scenario we have found the steady state value of $L^*$. \n",
    "\n",
    "The method used in the optimize.root function is hybr. This builds upon the Powell Method of optimization. The method is more efficient than many other approaches using a \"steepest gradient\" approach since it requires fewer steps to converge to minima/maxima for continous functions that are near-quadratic at their minima/maxima. It is also especially fool-proof against non-differentiable, continous functions as the optimization method does not use any derivatives in its search for extremeties.\n",
    "\n",
    "In the **ModelClass.py** the parameters for the model have been defined, as well as the functions for the model.\n",
    "\n",
    "The model doesn't have any problem with convergence, but that is not surprising since it doesn't have multiple local minima which could \"confuse\" the optimization algorithm and since our functions are continous. However the optimization function **numerical_solution_steady_state** in the ModelClass has been implemented with **multi start**, so it should also be possible to find the global minima in case anyone wants to update the model where the optimization could be harder for the algorithm e.g. the case where there are multiple local minima."
   ]
  },
  {
   "cell_type": "code",
   "execution_count": 6,
   "metadata": {},
   "outputs": [
    {
     "name": "stdout",
     "output_type": "stream",
     "text": [
      "Steady state value for labor force: 1256.7396638226\n",
      "Steady state value for output: 430.8821704535\n",
      "Steady state value for output pr. worker: 0.3428571429\n",
      "Steady state value for birth rate: 0.4500000000\n"
     ]
    }
   ],
   "source": [
    "model = ModelClass.MalthusModel()\n",
    "\n",
    "(labor_A_ss, labor_ss, output_ss, output_pr_worker_ss, birth_rate_ss, residual_ss) = model.numerical_solution_steady_state()\n",
    "\n",
    "print(\"Steady state value for labor force:\", format(labor_ss[0], \".10f\"))\n",
    "print(\"Steady state value for output:\", format(output_ss[0], \".10f\"))\n",
    "print(\"Steady state value for output pr. worker:\", format(output_pr_worker_ss[0], \".10f\"))\n",
    "print(\"Steady state value for birth rate:\", format(birth_rate_ss[0], \".10f\"))"
   ]
  },
  {
   "cell_type": "markdown",
   "metadata": {},
   "source": [
    "### Comparing the analytical and numerical results in steady state"
   ]
  },
  {
   "cell_type": "markdown",
   "metadata": {},
   "source": [
    "It can be seen that the steady state values are the same when using either the symbolic or the numerical solution to the Malthus model."
   ]
  },
  {
   "cell_type": "markdown",
   "metadata": {},
   "source": [
    "## The model visualized towards steady state"
   ]
  },
  {
   "cell_type": "markdown",
   "metadata": {},
   "source": [
    "In the code following below, we visualize the Basic Malthus Model's convergence towards a steady state. Furthermore, we add the opportunity to impose positive or negative shocks to the production factors, A & X, at a specified time, while also adding the opportunity to change parameter values in the model.\n",
    "\n",
    "Generally, it is seen that for identical parameter values, shocks to A and X will lead to higher output and population. Initially, the output pr. worker increases, but as time passes, this higher output pr. worker translates into higher birth rates \"crowding out\" the  increased output. After a short transition period, shocks to A and X does not have any effect on the output pr. worker but only increases the total population and output in a linear relationship. "
   ]
  },
  {
   "cell_type": "code",
   "execution_count": 7,
   "metadata": {},
   "outputs": [
    {
     "data": {
      "text/markdown": [
       "### By using the slider below it's both possible to adjust the parameters in the Malthus economy and add shocks to both the amount of land (X) and the technology level (A) at different times."
      ],
      "text/plain": [
       "<IPython.core.display.Markdown object>"
      ]
     },
     "metadata": {},
     "output_type": "display_data"
    },
    {
     "data": {
      "application/vnd.jupyter.widget-view+json": {
       "model_id": "0f7d94a9f36e46c4a3996809814e20de",
       "version_major": 2,
       "version_minor": 0
      },
      "text/plain": [
       "interactive(children=(FloatSlider(value=0.15, continuous_update=False, description='Alpha', max=1.0, step=0.01…"
      ]
     },
     "execution_count": 7,
     "metadata": {},
     "output_type": "execute_result"
    }
   ],
   "source": [
    "# Function to update the transition to steady state\n",
    "def update_transition_plots(alpha, beta, small_lambda, tau, mu, X_shock_size, A_shock_size, X_shock_time, A_shock_time):\n",
    "\n",
    "    # Simulate values towards steady state\n",
    "    (L, Y, y, X, A, n, _) = model.simulate_transition_ss(False, True, model.val.g, alpha, beta, small_lambda, tau, mu, X_shock_size, A_shock_size, X_shock_time, A_shock_time)\n",
    "\n",
    "    model.plot_transition_towards_ss(L, Y, y, n, X, A)\n",
    "\n",
    "(alpha_slider, beta_slider, small_lambda_slider, tau_slider, mu_slider) = model.model_parameter_sliders()\n",
    "(X_shock_size_slider, X_shock_time_slider, A_shock_size_slider, A_shock_time_slider) = model.model_shock_sliders()\n",
    "\n",
    "display(Markdown(\"### By using the slider below it's both possible to adjust the parameters in the Malthus economy and add shocks to both the amount of land (X) and the technology level (A) at different times.\"))\n",
    "\n",
    "# Display slider widgets and plot\n",
    "widgets.interactive(update_transition_plots, \n",
    "                    # Parameter sliders\n",
    "                    alpha=alpha_slider, \n",
    "                    beta=beta_slider, \n",
    "                    small_lambda=small_lambda_slider, \n",
    "                    tau=tau_slider, \n",
    "                    mu=mu_slider, \n",
    "                    # Shock sliders\n",
    "                    X_shock_size = X_shock_size_slider, \n",
    "                    X_shock_time = X_shock_time_slider,\n",
    "                    A_shock_size = A_shock_size_slider,  \n",
    "                    A_shock_time = A_shock_time_slider)\n"
   ]
  },
  {
   "cell_type": "markdown",
   "metadata": {},
   "source": [
    "## Malthus model extended with technological growth"
   ]
  },
  {
   "cell_type": "markdown",
   "metadata": {},
   "source": [
    "In the basic Malthus model it assumed that there is no technological growth. However the model can be extended to include technological growth, as Carl-Johan Dalgaard has done in a note called \"A simple dynamic Malthusian model\". When there is technological growth in the economy it means that $A_{t} \\neq A_{t+1}$, but that there is a growth factor $\\frac{A_{t+1}}{A_t}=g$.\n",
    "\n",
    "Since technological growth leads to higher output ($Y_t$) which leads to a larger population ($L_t$) it means that $L_t$ will not converge to a steady state level. Instead a steady state in the modified model can be found by looking at:\n",
    "\n",
    "$$ l_t = \\frac{L_t}{A_t} $$\n",
    "\n",
    "The above expression is the labor force in relation to the technological level in the economy."
   ]
  },
  {
   "cell_type": "markdown",
   "metadata": {},
   "source": [
    "In this model project we're not going to derive the law of motion for the modified model, but note that the law of motion is the following:\n",
    "\n",
    "$$ l_{t+1} = \\eta * g^{-1} * l_{t}^{1-\\alpha} * X^{\\alpha} + g^{-1}*(1-\\mu)*l_t $$\n",
    "\n",
    "Where $l_0$ is given."
   ]
  },
  {
   "cell_type": "markdown",
   "metadata": {},
   "source": [
    "### Steady state with technological growth\n",
    "\n",
    "In the next section the steady state of the model with technological growth is found, by numerical analysis. It's almost the same optimiztion as in the model without technological growth apart from the fact that the transition equation is now $l_{t+1}$ instead of $L_{t+1}$. "
   ]
  },
  {
   "cell_type": "code",
   "execution_count": 8,
   "metadata": {},
   "outputs": [
    {
     "name": "stdout",
     "output_type": "stream",
     "text": [
      "Steady state value for labor force adjusted for technological level: 940.4658444849\n",
      "Steady state value for output pr. worker: 0.3580952381\n",
      "Steady state value for birth rate: 0.4700000000\n"
     ]
    }
   ],
   "source": [
    "model_with_growth = ModelClass.MalthusModel()\n",
    "\n",
    "(labor_A_ss, labor_ss, output_ss, output_pr_worker_ss, birth_rate_ss, residual_ss) = model.numerical_solution_steady_state(with_A_growth = True)\n",
    "\n",
    "print(\"Steady state value for labor force adjusted for technological level:\", format(labor_A_ss[0], \".10f\"))\n",
    "print(\"Steady state value for output pr. worker:\", format(output_pr_worker_ss[0], \".10f\"))\n",
    "print(\"Steady state value for birth rate:\", format(birth_rate_ss[0], \".10f\"))"
   ]
  },
  {
   "cell_type": "markdown",
   "metadata": {},
   "source": [
    "We have that the steady state equilibrium in the modified model is $l_{t+1}=l_t=l^*$.\n",
    "\n",
    "In the code below there has been implemented a slider - in this case only for technological growth - whereby it's possible to see how the economy changes in a state with 1) decreasing technological ($g<1$), 2) unchanged technological level ($g=1$) and 3) technological growth ($g>1$)."
   ]
  },
  {
   "cell_type": "code",
   "execution_count": 9,
   "metadata": {},
   "outputs": [
    {
     "data": {
      "application/vnd.jupyter.widget-view+json": {
       "model_id": "bde7f09830fd4f33b1c896715729a6e0",
       "version_major": 2,
       "version_minor": 0
      },
      "text/plain": [
       "interactive(children=(FloatSlider(value=1.02, continuous_update=False, description='Technological growth', lay…"
      ]
     },
     "execution_count": 9,
     "metadata": {},
     "output_type": "execute_result"
    }
   ],
   "source": [
    "# Access model values\n",
    "val = model.val\n",
    "\n",
    "# Function to update the transition to steady state\n",
    "def update_transition_plots_with_g(g):\n",
    "\n",
    "    # Simulate values towards steady state\n",
    "    (L, Y, y, _, A, n, l) = model.simulate_transition_ss(True, False, g, val.alpha, val.beta, val.small_lambda, val.tau, val.mu, 0, 0, 0, 0)\n",
    "\n",
    "    model.plot_transition_towards_ss_with_g_growth(l, A, L, Y, n, y)\n",
    "\n",
    "\n",
    "# Sliders to adjust the amount of technological growth\n",
    "g_slider = widgets.FloatSlider(min=0.95, max=1.05, step=0.005, value=model.val.g, description='Technological growth', continuous_update=False)\n",
    "\n",
    "g_slider.style = {'description_width': 'initial'} # Set the width to 'initial' (default) or a custom value\n",
    "g_slider.layout.width = '50%'  # Adjust the width of the slider (e.g., '50%', '500px', etc.)\n",
    "\n",
    "# Display slider widgets and plot\n",
    "widgets.interactive(update_transition_plots_with_g, g=g_slider)"
   ]
  },
  {
   "cell_type": "markdown",
   "metadata": {},
   "source": [
    "Thereby it can be seen that technological growth ($g>1$) will lead to an ever increasing labor force ($L_t$) which will lead to an ever increasing output ($Y_t$), but that the output pr. worker ($y_t$) will remain mostly unchanged in the long run, since increases in output is just offset by increases in the population."
   ]
  },
  {
   "cell_type": "markdown",
   "metadata": {},
   "source": [
    "### Conclusion\n",
    "In this project we have solved and visualized the basic and technological-growth-extended Malthus-model.\n",
    "\n",
    "Initially, we solved the basic model analytically using the Sympy-module where we lambdified the symbolic math functions into python functions to be solved with specified parameter values.\n",
    "\n",
    "Afterwards, we solved the model numerically using the optimize.root command from Scipy using an efficient conjugate direction optimizer with fewer calculation steps in comparison to a 'steepest gradient' optimizer. In this part, we showed that we could find the same solution to the model both numerically and analytically. \n",
    "\n",
    "We visualized the basic model's convergence with implementations of shocks to production factors at arbitrary times, and/or with alterations of parameter values. The goal of this visualization was to help the reader understand the model's dynamics and the effect of individual parameters - something that may be lost in many economic models' sea of equations.\n",
    "\n",
    "Lastly, the model was extended with technological growth following Carl-Johan Dalgaard's note \"A simple dynamic Malthusian Model\". The main point of this section was to visualize how the Malthusian model's output pr. worker always converges to a fixed value, even when both population and output goes towards infinity.\n",
    "\n",
    "This project's main goal has been to clarify the Malthus-model's dynamics helping future students gain a better understanding of one of the many economic models that they will face in their time as university students."
   ]
  }
 ],
 "metadata": {
  "kernelspec": {
   "display_name": "base",
   "language": "python",
   "name": "python3"
  },
  "language_info": {
   "codemirror_mode": {
    "name": "ipython",
    "version": 3
   },
   "file_extension": ".py",
   "mimetype": "text/x-python",
   "name": "python",
   "nbconvert_exporter": "python",
   "pygments_lexer": "ipython3",
   "version": "3.11.7"
  },
  "toc-autonumbering": true,
  "vscode": {
   "interpreter": {
    "hash": "47ef90cdf3004d3f859f1fb202523c65c07ba7c22eefd261b181f4744e2d0403"
   }
  }
 },
 "nbformat": 4,
 "nbformat_minor": 4
}

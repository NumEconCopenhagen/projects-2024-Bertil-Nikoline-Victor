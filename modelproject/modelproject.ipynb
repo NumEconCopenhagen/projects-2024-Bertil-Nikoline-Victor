{
 "cells": [
  {
   "cell_type": "markdown",
   "metadata": {},
   "source": [
    "# A Malthus economy with technological growth"
   ]
  },
  {
   "cell_type": "markdown",
   "metadata": {},
   "source": [
    "**Time:** Discrete and represented by $ t \\in {0,1,...,\\infty} $"
   ]
  },
  {
   "cell_type": "markdown",
   "metadata": {},
   "source": [
    "**Production function:** Cobb-Douglas\n",
    "$$ Y_t = L_t^{1-\\alpha}(AX)^\\alpha $$\n",
    "$A$ and $X$ are independent of time. $A$ is the technology-level and $X$ is the amount of land available.\n",
    "\n",
    "The production function can also be written as production pr. capita, $y_t$, which is found by dividing the equation above by $L_t$:\n",
    "$$ y_t = \\frac{Y_t}{L_t} = (\\frac{AX}{L_t})^\\alpha $$"
   ]
  },
  {
   "cell_type": "markdown",
   "metadata": {},
   "source": [
    "**Fertility curve:**\n",
    "$$n_t = \\frac{1-\\beta}{\\lambda}y_t (1-\\tau)$$\n",
    "\n",
    "In the equation for the fertility-curve the expression $1-\\beta$ changes with preferences/culture about having children, $\\lambda$ represents the lower costs of having children and $\\tau$ represents taxes in society.\n"
   ]
  },
  {
   "cell_type": "markdown",
   "metadata": {},
   "source": [
    "**Transition-equation:**\n",
    "$$L_{t+1} = n_t L_t + (1-\\mu) L_t$$\n",
    "In the transition equation above $L_0$ is given."
   ]
  },
  {
   "cell_type": "markdown",
   "metadata": {},
   "source": [
    "A key assumption in the Malthus economy is that the birth rate, $n_t$, rises with income pr. capita, $y_t$, such that in steady state the birth rate is going to be: $$ n^* = \\eta * y^* $$ $\\eta$ is a positive parameter."
   ]
  },
  {
   "cell_type": "markdown",
   "metadata": {},
   "source": [
    "## Analytical solution to the Malthus model"
   ]
  },
  {
   "cell_type": "markdown",
   "metadata": {},
   "source": [
    "To characterize the solution, first derive a steady state equation as a function of a parameter using Sympy.solve and then turn it into a python function by Sympy.lambdify. See the lecture notes for details."
   ]
  },
  {
   "cell_type": "code",
   "execution_count": 1,
   "metadata": {},
   "outputs": [
    {
     "name": "stdout",
     "output_type": "stream",
     "text": [
      "To derieve the analytical steady state the transition equation describing the change in labor force will be used:\n"
     ]
    },
    {
     "data": {
      "text/markdown": [
       "$ \\Large{ L_{t+1} = L_{t} \\left(1 - \\mu\\right) + L_{t}^{1 - \\alpha} \\eta \\left(A X\\right)^{\\alpha}}$"
      ],
      "text/plain": [
       "<IPython.core.display.Markdown object>"
      ]
     },
     "metadata": {},
     "output_type": "display_data"
    }
   ],
   "source": [
    "import ModelClass\n",
    "import sympy as sm\n",
    "from IPython.display import display, Markdown\n",
    "\n",
    "model = ModelClass.MalthusModel()\n",
    "\n",
    "transition_eq = model.symbolic_L()\n",
    "\n",
    "latex_with_code = r\"$ \\Large{ L_{t+1} = \" + sm.latex(transition_eq) + r\"}$\"\n",
    "\n",
    "print(\"To derieve the analytical steady state the transition equation describing the change in labor force will be used:\")\n",
    "display(Markdown(latex_with_code))"
   ]
  },
  {
   "cell_type": "code",
   "execution_count": 2,
   "metadata": {},
   "outputs": [
    {
     "name": "stdout",
     "output_type": "stream",
     "text": [
      "Steady state expression for the labor force:\n"
     ]
    },
    {
     "data": {
      "text/markdown": [
       "$ \\Large{ L^{*} = \\left(\\frac{\\eta \\left(A X\\right)^{\\alpha}}{\\mu}\\right)^{\\frac{1}{\\alpha}}}$"
      ],
      "text/plain": [
       "<IPython.core.display.Markdown object>"
      ]
     },
     "metadata": {},
     "output_type": "display_data"
    },
    {
     "name": "stdout",
     "output_type": "stream",
     "text": [
      "Steady state expression for output pr. worker:\n"
     ]
    },
    {
     "data": {
      "text/markdown": [
       "$ \\Large{ y^{*} = \\left(A X \\left(\\frac{\\eta \\left(A X\\right)^{\\alpha}}{\\mu}\\right)^{- \\frac{1}{\\alpha}}\\right)^{\\alpha}}$"
      ],
      "text/plain": [
       "<IPython.core.display.Markdown object>"
      ]
     },
     "metadata": {},
     "output_type": "display_data"
    }
   ],
   "source": [
    "# Steady state expression for labor force\n",
    "L_ss_symbolic = model.symbolic_ss_L()\n",
    "\n",
    "latex_with_code = r\"$ \\Large{ L^{*} = \" + sm.latex(L_ss_symbolic) + r\"}$\"\n",
    "\n",
    "print(\"Steady state expression for the labor force:\")\n",
    "display(Markdown(latex_with_code))\n",
    "\n",
    "\n",
    "# Steady state expression for output pr. worker\n",
    "y_ss_symbolic = model.symbolic_ss_y()\n",
    "\n",
    "latex_with_code = r\"$ \\Large{ y^{*} = \" + sm.latex(y_ss_symbolic) + r\"}$\"\n",
    "\n",
    "print(\"Steady state expression for output pr. worker:\")\n",
    "display(Markdown(latex_with_code))\n"
   ]
  },
  {
   "cell_type": "markdown",
   "metadata": {},
   "source": [
    "It's possible to simplify the expression for $L^*$ and $y^*$ a lot more than what has been done in the above. Something with symbolic python is not very good at simplifying \"complex\" expressions."
   ]
  },
  {
   "cell_type": "markdown",
   "metadata": {},
   "source": [
    "### Turning the symbolic math steady state expressions into python functions using lambdify"
   ]
  },
  {
   "cell_type": "code",
   "execution_count": 3,
   "metadata": {},
   "outputs": [
    {
     "name": "stdout",
     "output_type": "stream",
     "text": [
      "State state labor force: 1256.7396638226\n"
     ]
    }
   ],
   "source": [
    "# Labor force in steady state\n",
    "labor_force_ss_func = model.symbolic_ss_L_lambdify()\n",
    "\n",
    "values = model.val\n",
    "\n",
    "labor_force_ss = labor_force_ss_func(values.technology, values.land, values.alpha, values.mu, values.eta)\n",
    "\n",
    "print(\"State state labor force:\", format(labor_force_ss, \".10f\"))"
   ]
  },
  {
   "cell_type": "code",
   "execution_count": 4,
   "metadata": {},
   "outputs": [
    {
     "name": "stdout",
     "output_type": "stream",
     "text": [
      "State state output pr. worker: 0.3428571429\n"
     ]
    }
   ],
   "source": [
    "# Output pr. worker in steady state\n",
    "output_pr_worker_ss_func = model.symbolic_ss_y_lambdify()\n",
    "\n",
    "values = model.val\n",
    "\n",
    "output_pr_worker_ss = output_pr_worker_ss_func(values.technology, values.land, values.alpha, values.mu, values.eta)\n",
    "\n",
    "print(\"State state output pr. worker:\", format(output_pr_worker_ss, \".10f\"))"
   ]
  },
  {
   "cell_type": "markdown",
   "metadata": {},
   "source": [
    "## Numerical solution to the Malthus model"
   ]
  },
  {
   "cell_type": "markdown",
   "metadata": {},
   "source": [
    "To begin with we find the amount of labor force, $L^*$, in the steady state.\n",
    "\n",
    "In the code below we have used **optimize.root** in the scipy to find the optimal value of $L_t$ where the difference between $L_t$ and $L_{t+1}$ is equal to zero. In that scenario we have found the steady state value of $L^*$.\n",
    "\n",
    "In the **ModelClass.py** the parameters for the model have been defined, as well as the functions for the model.\n",
    "\n",
    "The model doesn't have any problem with convergence, but that is not surprising since it doesn't have multiple local minima which could \"confuse\" the optimization algorithm. However the optimization function **numerical_solution_steady_state** in the ModelClass has been implemented with **multi start**, so it should also be possible to find the global minima in case anyone wants to update the model where the optimization could be harder for the algorithm i.e. the case where there are multiple local minima."
   ]
  },
  {
   "cell_type": "code",
   "execution_count": 5,
   "metadata": {},
   "outputs": [
    {
     "name": "stdout",
     "output_type": "stream",
     "text": [
      "Steady state value for labor force: 1.4107892199\n",
      "Steady state value for output: 1.3398087588\n",
      "Steady state value for output pr. worker: 0.9496874090\n",
      "Steady state value for birth rate: 1.2464647243\n",
      "State state residual from the optimization algorithm: 1.1236438470\n"
     ]
    }
   ],
   "source": [
    "model = ModelClass.MalthusModel()\n",
    "\n",
    "labor_ss, output_ss, output_pr_worker_ss, birth_rate_ss, residual_ss = model.numerical_solution_steady_state()\n",
    "\n",
    "print(\"Steady state value for labor force:\", format(labor_ss[0], \".10f\"))\n",
    "print(\"Steady state value for output:\", format(output_ss[0], \".10f\"))\n",
    "print(\"Steady state value for output pr. worker:\", format(output_pr_worker_ss[0], \".10f\"))\n",
    "print(\"Steady state value for birth rate:\", format(birth_rate_ss[0], \".10f\"))\n",
    "print(\"State state residual from the optimization algorithm:\", format(residual_ss[0], \".10f\"))"
   ]
  },
  {
   "cell_type": "markdown",
   "metadata": {},
   "source": [
    "### Comparing the analytical and numerical results in steady state"
   ]
  },
  {
   "cell_type": "markdown",
   "metadata": {},
   "source": [
    "It can be seen that the steady state values are the same when using either the symbolic or the numerical solution to the Malthus model."
   ]
  },
  {
   "cell_type": "markdown",
   "metadata": {},
   "source": [
    "## The model visualized towards steady state"
   ]
  },
  {
   "cell_type": "code",
   "execution_count": 6,
   "metadata": {},
   "outputs": [
    {
     "data": {
      "text/markdown": [
       "### By using the slider below it's both possible to adjust the parameters in the Malthus economy and add shocks to both the amount of land (X) and the technology level (A) at different times."
      ],
      "text/plain": [
       "<IPython.core.display.Markdown object>"
      ]
     },
     "metadata": {},
     "output_type": "display_data"
    },
    {
     "data": {
      "application/vnd.jupyter.widget-view+json": {
       "model_id": "7b726e0b907646f297e801957df2995b",
       "version_major": 2,
       "version_minor": 0
      },
      "text/plain": [
       "interactive(children=(FloatSlider(value=0.15, continuous_update=False, description='Alpha', max=1.0, step=0.01…"
      ]
     },
     "execution_count": 6,
     "metadata": {},
     "output_type": "execute_result"
    }
   ],
   "source": [
    "# Import to create plot\n",
    "import matplotlib.pyplot as plt\n",
    "import seaborn as sns\n",
    "\n",
    "# Import to create widgets\n",
    "import ipywidgets as widgets\n",
    "\n",
    "\n",
    "# Function to update the transition to steady state\n",
    "def update_transition_plots(alpha, beta, small_lambda, tau, mu, X_shock_size, A_shock_size, X_shock_time, A_shock_time):\n",
    "\n",
    "    # Simulate values towards steady state\n",
    "    (L, Y, y, X, A, n) = model.simulate_transition_ss(alpha, beta, small_lambda, tau, mu, X_shock_size, A_shock_size, X_shock_time, A_shock_time)\n",
    "\n",
    "\n",
    "    # Plot the data\n",
    "    plt.figure(figsize=(7, 3.5))\n",
    "    sns.set_style(\"whitegrid\")\n",
    "    plt.xlim(0, val.T) # Set limits to show the entire plot\n",
    "    plt.plot(L, label=\"L\", color='blue')\n",
    "    plt.plot(Y, label=\"Y\", color='skyblue')\n",
    "    plt.title('Labor force (L) and output (Y)')\n",
    "    plt.xlabel('t - period')\n",
    "    plt.ylabel('Value')\n",
    "    plt.legend(title='Series', loc='upper left')\n",
    "    plt.show()\n",
    "\n",
    "    # Plot the data\n",
    "    plt.figure(figsize=(7, 3.5))\n",
    "    sns.set_style(\"whitegrid\")\n",
    "    plt.xlim(0, val.T) # Set limits to show the entire plot\n",
    "    plt.plot(y, label=\"y\", color='blue')\n",
    "    plt.plot(n, label=\"n\", color='skyblue')\n",
    "    plt.title('Output pr. worker (y) and birth rate (n)')\n",
    "    plt.xlabel('t - period')\n",
    "    plt.ylabel('Value')\n",
    "    plt.legend(title='Series', loc='upper left')\n",
    "    plt.show()\n",
    "\n",
    "    # Plot the data\n",
    "    plt.figure(figsize=(7, 3.5))\n",
    "    sns.set_style(\"whitegrid\")\n",
    "    plt.xlim(0, val.T) # Set limits to show the entire plot\n",
    "    plt.plot(X, label=\"X\", linestyle=':', alpha=0.7, linewidth=2, color='blue')\n",
    "    plt.plot(A, label=\"A\", linestyle='-', alpha=0.7, linewidth=3, color='skyblue')\n",
    "    plt.title('Land (X) and technology (A)')\n",
    "    plt.xlabel('t - period')\n",
    "    plt.ylabel('Value')\n",
    "    plt.legend(title='Series', loc='upper left')\n",
    "    plt.show()\n",
    "\n",
    "\n",
    "# Get values from model\n",
    "val = model.val\n",
    "\n",
    "# Sliders to adjust the parameters in the Malthus model\n",
    "alpha_slider = widgets.FloatSlider(min=0.0, max=1.0, step=0.01, value=model.val.alpha, description='Alpha', continuous_update=False)\n",
    "beta_slider = widgets.FloatSlider(min=0.0, max=1.0, step=0.01, value=model.val.beta, description='Beta', continuous_update=False)\n",
    "small_lambda_slider = widgets.FloatSlider(min=0.0, max=1.0, step=0.01, value=model.val.small_lambda, description='Lambda', continuous_update=False)\n",
    "tau_slider = widgets.FloatSlider(min=0.0, max=1.0, step=0.01, value=model.val.tau, description='Tau', continuous_update=False)\n",
    "mu_slider = widgets.FloatSlider(min=0.0, max=1.0, step=0.01, value=model.val.mu, description='Mu', continuous_update=False)\n",
    "\n",
    "# Sliders to add shocks to the land and technology level in the economy\n",
    "X_shock_size_slider = widgets.FloatSlider(min=0, max=2, step=0.05, value=0.8, description='X shock size', continuous_update=False)\n",
    "A_shock_size_slider = widgets.FloatSlider(min=0, max=2, step=0.05, value=1.2, description='A shock size', continuous_update=False)\n",
    "X_shock_time_slider = widgets.FloatSlider(min=0.0, max=val.T, step=1, value=200, description='X shock time period', continuous_update=False)\n",
    "A_shock_time_slider = widgets.FloatSlider(min=0.0, max=val.T, step=1, value=300, description='A shock time period', continuous_update=False)\n",
    "\n",
    "display(Markdown(\"### By using the slider below it's both possible to adjust the parameters in the Malthus economy and add shocks to both the amount of land (X) and the technology level (A) at different times.\"))\n",
    "\n",
    "# Display slider widgets and plot\n",
    "widgets.interactive(update_transition_plots, \n",
    "                    # Parameter sliders\n",
    "                    alpha=alpha_slider, \n",
    "                    beta=beta_slider, \n",
    "                    small_lambda=small_lambda_slider, \n",
    "                    tau=tau_slider, \n",
    "                    mu=mu_slider, \n",
    "                    # Shock sliders\n",
    "                    X_shock_size = X_shock_size_slider, \n",
    "                    A_shock_size = A_shock_size_slider, \n",
    "                    X_shock_time = X_shock_time_slider, \n",
    "                    A_shock_time = A_shock_time_slider)\n"
   ]
  },
  {
   "cell_type": "markdown",
   "metadata": {},
   "source": [
    "## Model extension with technological growth"
   ]
  },
  {
   "cell_type": "markdown",
   "metadata": {},
   "source": [
    "# Ideas for extensions\n",
    "- Change of the production function to an i.e. CES production function or maybe another production function also.\n",
    "- Extension of the model with growth in technology\n",
    "\n",
    "\n"
   ]
  }
 ],
 "metadata": {
  "kernelspec": {
   "display_name": "base",
   "language": "python",
   "name": "python3"
  },
  "language_info": {
   "codemirror_mode": {
    "name": "ipython",
    "version": 3
   },
   "file_extension": ".py",
   "mimetype": "text/x-python",
   "name": "python",
   "nbconvert_exporter": "python",
   "pygments_lexer": "ipython3",
   "version": "3.11.7"
  },
  "toc-autonumbering": true,
  "vscode": {
   "interpreter": {
    "hash": "47ef90cdf3004d3f859f1fb202523c65c07ba7c22eefd261b181f4744e2d0403"
   }
  }
 },
 "nbformat": 4,
 "nbformat_minor": 4
}

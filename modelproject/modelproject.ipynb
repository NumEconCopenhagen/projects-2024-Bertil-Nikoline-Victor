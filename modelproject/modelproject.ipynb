{
 "cells": [
  {
   "cell_type": "markdown",
   "metadata": {},
   "source": [
    "# A Malthus economy with technological growth"
   ]
  },
  {
   "cell_type": "markdown",
   "metadata": {},
   "source": [
    "**Time:** Discrete and represented by $ t \\in {0,1,...,\\infty} $"
   ]
  },
  {
   "cell_type": "markdown",
   "metadata": {},
   "source": [
    "**Production function:** Matches the technology curve in the Malthus-diagram.\n",
    "$$ Y_t = L_t^{1-\\alpha}(AX)^\\alpha $$\n",
    "$A$ and $X$ are independent of time. $A$ is the technology-level and $X$ is the amount of land available.\n",
    "\n",
    "The production function can also be written as production pr. capita, $y_t$, which is found by dividing the equation above by $L_t$:\n",
    "$$ y_t = \\frac{Y_t}{L_t} = (\\frac{AX}{L_t})^\\alpha $$"
   ]
  },
  {
   "cell_type": "markdown",
   "metadata": {},
   "source": [
    "**Fertility curve:**\n",
    "$$n_t = \\frac{1-\\beta}{\\lambda}y_t (1-\\tau)$$\n",
    "\n",
    "In the equation for the fertility-curve the expression $1-\\beta$ changes with preferences/culture about having children, $\\lambda$ represents the lower costs of having children and $\\tau$ represents taxes in society.\n"
   ]
  },
  {
   "cell_type": "markdown",
   "metadata": {},
   "source": [
    "**Transition-equation:**\n",
    "$$L_{t+1} = n_t L_t + (1-\\mu) L_t$$\n",
    "In the transition equation above $L_0$ is given."
   ]
  },
  {
   "cell_type": "markdown",
   "metadata": {},
   "source": [
    "## Analytical solution"
   ]
  },
  {
   "cell_type": "markdown",
   "metadata": {},
   "source": [
    "If your model allows for an analytical solution, you should provide here.\n",
    "\n",
    "You may use Sympy for this. Then you can characterize the solution as a function of a parameter of the model.\n",
    "\n",
    "To characterize the solution, first derive a steady state equation as a function of a parameter using Sympy.solve and then turn it into a python function by Sympy.lambdify. See the lecture notes for details."
   ]
  },
  {
   "cell_type": "code",
   "execution_count": 8,
   "metadata": {},
   "outputs": [
    {
     "name": "stdout",
     "output_type": "stream",
     "text": [
      "To derieve the analytical steady state the transition equation describing the change in labor force will be used:\n"
     ]
    },
    {
     "data": {
      "text/markdown": [
       "$ \\Large{ L_{t+1} = L_{t} \\left(1 - \\mu\\right) + L_{t}^{1 - \\alpha} \\eta \\left(A X\\right)^{\\alpha}}$"
      ],
      "text/plain": [
       "<IPython.core.display.Markdown object>"
      ]
     },
     "metadata": {},
     "output_type": "display_data"
    }
   ],
   "source": [
    "import ModelClass\n",
    "import sympy as sm\n",
    "from IPython.display import display, Markdown\n",
    "\n",
    "model = ModelClass.MalthusModel()\n",
    "\n",
    "transition_eq = model.L_transition_eq()\n",
    "\n",
    "latex_with_code = r\"$ \\Large{ L_{t+1} = \" + sm.latex(transition_eq) + r\"}$\"\n",
    "\n",
    "print(\"To derieve the analytical steady state the transition equation describing the change in labor force will be used:\")\n",
    "display(Markdown(latex_with_code))"
   ]
  },
  {
   "cell_type": "code",
   "execution_count": 9,
   "metadata": {},
   "outputs": [
    {
     "name": "stdout",
     "output_type": "stream",
     "text": [
      "Steady state expression for the amount of labor:\n"
     ]
    },
    {
     "data": {
      "text/markdown": [
       "$ \\Large{ L^{*} = \\left(\\frac{\\eta \\left(A X\\right)^{\\alpha}}{\\mu}\\right)^{\\frac{1}{\\alpha}}}$"
      ],
      "text/plain": [
       "<IPython.core.display.Markdown object>"
      ]
     },
     "metadata": {},
     "output_type": "display_data"
    }
   ],
   "source": [
    "L_ss = model.L_steady_state()\n",
    "\n",
    "latex_with_code = r\"$ \\Large{ L^{*} = \" + sm.latex(L_ss) + r\"}$\"\n",
    "\n",
    "print(\"Steady state expression for the amount of labor:\")\n",
    "display(Markdown(latex_with_code))"
   ]
  },
  {
   "cell_type": "markdown",
   "metadata": {},
   "source": [
    "## Numerical solution"
   ]
  },
  {
   "cell_type": "markdown",
   "metadata": {},
   "source": [
    "You can always solve a model numerically. \n",
    "\n",
    "Define first the set of parameters you need. \n",
    "\n",
    "Then choose one of the optimization algorithms that we have gone through in the lectures based on what you think is most fitting for your model.\n",
    "\n",
    "Are there any problems with convergence? Does the model converge for all starting values? Make a lot of testing to figure these things out. "
   ]
  },
  {
   "cell_type": "code",
   "execution_count": null,
   "metadata": {},
   "outputs": [],
   "source": [
    "\n",
    "\n",
    "\n"
   ]
  },
  {
   "cell_type": "markdown",
   "metadata": {},
   "source": [
    "# Further analysis"
   ]
  },
  {
   "cell_type": "markdown",
   "metadata": {},
   "source": [
    "Make detailed vizualizations of how your model changes with parameter values. \n",
    "\n",
    "Try to make an extension of the model.\n",
    "\n",
    "**Extending the model with technological progress.**"
   ]
  },
  {
   "cell_type": "markdown",
   "metadata": {},
   "source": [
    "# Conclusion"
   ]
  },
  {
   "cell_type": "markdown",
   "metadata": {},
   "source": [
    "Add concise conclusion. "
   ]
  },
  {
   "cell_type": "markdown",
   "metadata": {},
   "source": [
    "# Ideas for extensions\n",
    "- Change of the production function to an i.e. CES production function or maybe another production function also.\n",
    "- Extension of the model with growth in technology\n",
    "\n",
    "\n"
   ]
  }
 ],
 "metadata": {
  "kernelspec": {
   "display_name": "base",
   "language": "python",
   "name": "python3"
  },
  "language_info": {
   "codemirror_mode": {
    "name": "ipython",
    "version": 3
   },
   "file_extension": ".py",
   "mimetype": "text/x-python",
   "name": "python",
   "nbconvert_exporter": "python",
   "pygments_lexer": "ipython3",
   "version": "3.11.7"
  },
  "toc-autonumbering": true,
  "vscode": {
   "interpreter": {
    "hash": "47ef90cdf3004d3f859f1fb202523c65c07ba7c22eefd261b181f4744e2d0403"
   }
  }
 },
 "nbformat": 4,
 "nbformat_minor": 4
}

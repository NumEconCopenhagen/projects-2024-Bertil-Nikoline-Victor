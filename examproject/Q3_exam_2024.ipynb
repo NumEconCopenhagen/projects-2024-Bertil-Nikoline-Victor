{
 "cells": [
  {
   "cell_type": "markdown",
   "metadata": {},
   "source": [
    "**Table of contents**<a id='toc0_'></a>    \n",
    "- 1. [Problem 1: Production economy and CO2 taxation](#toc1_)    \n",
    "- 2. [Problem 2: Career choice model](#toc2_)    \n",
    "- 3. [Problem 3: Barycentric interpolation](#toc3_)    \n",
    "\n",
    "<!-- vscode-jupyter-toc-config\n",
    "\tnumbering=true\n",
    "\tanchor=true\n",
    "\tflat=false\n",
    "\tminLevel=2\n",
    "\tmaxLevel=6\n",
    "\t/vscode-jupyter-toc-config -->\n",
    "<!-- THIS CELL WILL BE REPLACED ON TOC UPDATE. DO NOT WRITE YOUR TEXT IN THIS CELL -->"
   ]
  },
  {
   "cell_type": "code",
   "execution_count": 118,
   "metadata": {},
   "outputs": [],
   "source": [
    "# Write your code here\n",
    "import numpy as np\n",
    "from types import SimpleNamespace"
   ]
  },
  {
   "cell_type": "markdown",
   "metadata": {},
   "source": [
    "## 1. <a id='toc1_'></a>[Problem 1: Production economy and CO2 taxation](#toc0_)"
   ]
  },
  {
   "cell_type": "markdown",
   "metadata": {},
   "source": [
    "Consider a production economy with two firms indexed by $j \\in \\{1,2\\}$. Each produce its own good. They solve\n",
    "\n",
    "$$\n",
    "\\begin{align*}\n",
    "\\max_{y_{j}}\\pi_{j}&=p_{j}y_{j}-w_{j}\\ell_{j}\\\\\\text{s.t.}\\;&y_{j}=A\\ell_{j}^{\\gamma}.\n",
    "\\end{align*}\n",
    "$$\n",
    "\n",
    "Optimal firm behavior is\n",
    "\n",
    "$$\n",
    "\\begin{align*}\n",
    "\\ell_{j}^{\\star}(w,p_{j})&=\\left(\\frac{p_{j}A\\gamma}{w}\\right)^{\\frac{1}{1-\\gamma}} \\\\\n",
    "y_{j}^{\\star}(w,p_{j})&=A\\left(\\ell_{j}^{\\star}(w,p_{j})\\right)^{\\gamma}\n",
    "\\end{align*}\n",
    "$$\n",
    "\n",
    "The implied profits are\n",
    "\n",
    "$$\n",
    "\\pi_{j}^*(w,p_{j})=\\frac{1-\\gamma}{\\gamma}w\\cdot\\left(\\frac{p_{j}A\\gamma}{w}\\right)^{\\frac{1}{1-\\gamma}}\n",
    "$$\n",
    "\n",
    "A single consumer supplies labor, and consumes the goods the firms produce. She also recieves the implied profits of the firm.<br>\n",
    "She solves:\n",
    "\n",
    "$$\n",
    "\\begin{align*}\n",
    "U(p_1,p_2,w,\\tau,T) = \\max_{c_{1},c_{2},\\ell} & \\log(c_{1}^{\\alpha}c_{2}^{1-\\alpha})-\\nu\\frac{\\ell^{1+\\epsilon}}{1+\\epsilon} \\\\\n",
    "\\text{s.t.}\\,\\,\\,&p_{1}c_{1}+(p_{2}+\\tau)c_{2}=w\\ell+T+\\pi_{1}^*(w,p_{1})+\\pi_{2}^*(w,p_{2})\n",
    "\\end{align*}\n",
    "$$\n",
    "\n",
    "where $\\tau$ is a tax and $T$ is lump-sum transfer. <br>\n",
    "For a given $\\ell$, it can be shown that optimal behavior is\n",
    "\n",
    "$$\n",
    "\\begin{align*}\n",
    "c_{1}(\\ell)&=\\alpha\\frac{w\\ell+T+\\pi_{1}^*(w,p_{1})+\\pi_{2}^*(w,p_{2})}{p_{1}} \\\\\n",
    "c_{2}(\\ell)&=(1-\\alpha)\\frac{w\\ell+T+\\pi_{1}^*(w,p_{1})+\\pi_{2}^*(w,p_{2})}{p_{2}+\\tau} \\\\\n",
    "\\end{align*}\n",
    "$$\n",
    "Such that optimal behavior is:\n",
    "$$\n",
    "\\ell^* = \\underset{\\ell}{\\arg\\max} \\log(\\left(c_{1}(\\ell)\\right)^{\\alpha}\\cdot \\left(c_{2}(\\ell)\\right)^{1-\\alpha})-\\nu\\frac{\\ell^{1+\\epsilon}}{1+\\epsilon} \n",
    "$$\n",
    "With optimal consumption:\n",
    "$$\n",
    "\\begin{align*}\n",
    "c_1^*=c_{1}(\\ell^*) \\\\\n",
    "c_2^*=c_{2}(\\ell^*)\\\\\n",
    "\\end{align*}\n",
    "$$\n",
    "\n",
    "\n",
    "The government chooses $\\tau$ and balances its budget so $T=\\tau c_2^*$. We initially set $\\tau,T=0$.\n",
    "\n",
    "Market clearing requires:\n",
    "\n",
    "1. Labor market: $\\ell^* = \\ell_1^* + \\ell_2^*$\n",
    "1. Good market 1: $c_1^* = y_1^*$\n",
    "1. Good market 2: $c_2^* = y_2^*$\n"
   ]
  },
  {
   "cell_type": "markdown",
   "metadata": {},
   "source": [
    "**Question 1:** Check market clearing conditions for $p_1$ in `linspace(0.1,2.0,10)` and $p_2$ in `linspace(0.1,2.0,10)`. We choose $w=1$ as numeraire."
   ]
  },
  {
   "cell_type": "code",
   "execution_count": 119,
   "metadata": {},
   "outputs": [],
   "source": [
    "par = SimpleNamespace()\n",
    "\n",
    "# firms\n",
    "par.A = 1.0\n",
    "par.gamma = 0.5\n",
    "\n",
    "# households\n",
    "par.alpha = 0.3\n",
    "par.nu = 1.0\n",
    "par.epsilon = 2.0\n",
    "\n",
    "# government\n",
    "par.tau = 0.0\n",
    "par.T = 0.0\n",
    "\n",
    "# Question 3\n",
    "par.kappa = 0.1"
   ]
  },
  {
   "cell_type": "code",
   "execution_count": 120,
   "metadata": {},
   "outputs": [],
   "source": [
    "# write you answer here"
   ]
  },
  {
   "cell_type": "markdown",
   "metadata": {},
   "source": [
    "**Question 2:** Find the equilibrium prices $p_1$ and $p_2$.<br>\n",
    "*Hint: you can use Walras' law to only check 2 of the market clearings*"
   ]
  },
  {
   "cell_type": "code",
   "execution_count": 121,
   "metadata": {},
   "outputs": [],
   "source": [
    "# write your answer here"
   ]
  },
  {
   "cell_type": "markdown",
   "metadata": {},
   "source": [
    "Assume the government care about the social welfare function:\n",
    "\n",
    "$$\n",
    "SWF = U - \\kappa y_2^*\n",
    "$$"
   ]
  },
  {
   "cell_type": "markdown",
   "metadata": {},
   "source": [
    "Here $\\kappa$ measures the social cost of carbon emitted by the production of $y_2$ in equilibrium."
   ]
  },
  {
   "cell_type": "markdown",
   "metadata": {},
   "source": [
    "**Question 3:** What values of $\\tau$ and (implied) $T$ should the government choose to maximize $SWF$?"
   ]
  },
  {
   "cell_type": "code",
   "execution_count": 122,
   "metadata": {},
   "outputs": [],
   "source": [
    "# write your answer here"
   ]
  },
  {
   "cell_type": "markdown",
   "metadata": {},
   "source": [
    "## 2. <a id='toc2_'></a>[Problem 2: Career choice model](#toc0_)"
   ]
  },
  {
   "cell_type": "markdown",
   "metadata": {},
   "source": [
    "Consider a graduate $i$ making a choice between entering $J$ different career tracks. <br>\n",
    "Entering career $j$ yields utility $u^k_{ij}$. This value is unknown to the graduate ex ante, but will ex post be: <br>\n",
    "$$\n",
    "    u_{i,j}^k = v_{j} + \\epsilon_{i,j}^k\n",
    "$$\n",
    "\n",
    "They know that $\\epsilon^k_{i,j}\\sim \\mathcal{N}(0,\\sigma^2)$, but they do not observe $\\epsilon^k_{i,j}$ before making their career choice. <br>"
   ]
  },
  {
   "cell_type": "markdown",
   "metadata": {},
   "source": [
    "Consider the concrete case of $J=3$ with:\n",
    "$$\n",
    "\\begin{align*}\n",
    "    v_{1} &= 1 \\\\\n",
    "    v_{2} &= 2 \\\\\n",
    "    v_{3} &= 3\n",
    "\\end{align*}\n",
    "$$"
   ]
  },
  {
   "cell_type": "markdown",
   "metadata": {},
   "source": [
    "If the graduates know the values of $v_j$ and the distribution of $\\epsilon_{i,j}^k$, they can calculate the expected utility of each career track using simulation: <br>\n",
    "$$\n",
    "    \\mathbb{E}\\left[ u^k_{i,j}\\vert v_j \\right] \\approx v_j + \\frac{1}{K}\\sum_{k=1}^K \\epsilon_{i,j}^k\n",
    "$$"
   ]
  },
  {
   "cell_type": "code",
   "execution_count": 123,
   "metadata": {},
   "outputs": [],
   "source": [
    "par = SimpleNamespace()\n",
    "par.J = 3\n",
    "par.N = 10\n",
    "par.K = 10000\n",
    "\n",
    "par.F = np.arange(1,par.N+1)\n",
    "par.sigma = 2\n",
    "\n",
    "par.v = np.array([1,2,3])\n",
    "par.c = 1"
   ]
  },
  {
   "cell_type": "markdown",
   "metadata": {},
   "source": [
    "**Question 1:** Simulate and calculate expected utility and the average realised utility for $K=10000$ draws, for each career choice $j$.\n"
   ]
  },
  {
   "cell_type": "code",
   "execution_count": 124,
   "metadata": {},
   "outputs": [],
   "source": [
    "# write your answer here"
   ]
  },
  {
   "cell_type": "markdown",
   "metadata": {},
   "source": [
    "Now consider a new scenario: Imagine that the graduate does not know $v_j$. The *only* prior information they have on the value of each job, comes from their $F_{i}$ friends that work in each career $j$. After talking with them, they know the average utility of their friends (which includes their friends' noise term), giving them the prior expecation: <br>\n",
    "$$\n",
    "\\tilde{u}^k_{i,j}\\left( F_{i}\\right) = \\frac{1}{F_{i}}\\sum_{f=1}^{F_{i}} \\left(v_{j} + \\epsilon^k_{f,j}\\right), \\; \\epsilon^k_{f,j}\\sim \\mathcal{N}(0,\\sigma^2)\n",
    "$$\n",
    "For ease of notation consider that each graduate have $F_{i}=i$ friends in each career. <br>"
   ]
  },
  {
   "cell_type": "markdown",
   "metadata": {},
   "source": [
    "For $K$ times do the following: <br>\n",
    "1. For each person $i$ draw $J\\cdot F_i$ values of $\\epsilon_{f,j}^{k}$, and calculate the prior expected utility of each career track, $\\tilde{u}^k_{i,j}\\left( F_{i}\\right)$. <br>\n",
    "Also draw their own $J$ noise terms, $\\epsilon_{i,j}^k$\n",
    "1. Each person $i$ chooses the career track with the highest expected utility: $$j_i^{k*}= \\arg\\max_{j\\in{1,2\\dots,J}}\\left\\{ \\tilde{u}^k_{i,j}\\left( F_{i}\\right)\\right\\} $$\n",
    "1. Store the chosen careers: $j_i^{k*}$, the prior expectation of the value of their chosen career: $\\tilde{u}^k_{i,j=j_i^{k*}}\\left( F_{i}\\right)$, and the realized value of their chosen career track: $u^k_{i,j=j_i^{k*}}=v_{j=j_i^{k*}}+\\epsilon_{i,j=j_i^{k*}}^k$."
   ]
  },
  {
   "cell_type": "markdown",
   "metadata": {},
   "source": [
    "Chosen values will be: <br>\n",
    "$i\\in\\left\\{1,2\\dots,N\\right\\}, N=10$ <br>\n",
    "$F_i = i$<br>\n",
    "So there are 10 graduates. The first has 1 friend in each career, the second has 2 friends, ... the tenth has 10 friends."
   ]
  },
  {
   "cell_type": "markdown",
   "metadata": {},
   "source": [
    "**Question 2:** Simulate and visualize: For each type of graduate, $i$, the share of graduates choosing each career, the average subjective expected utility of the graduates, and the average ex post realized utility given their choice. <br>\n",
    "That is, calculate and visualize: <br>\n",
    "$$\n",
    "\\begin{align*}\n",
    "    \\frac{1}{K} \\sum_{k=1}^{K} \\mathbb{I}\\left\\{ j=j_i^{k*} \\right\\}  \\;\\forall j\\in\\left\\{1,2,\\dots,J\\right\\}\n",
    "\\end{align*}\n",
    "$$\n",
    "$$\n",
    "\\begin{align*}\n",
    "    \\frac{1}{K} \\sum_{k=1}^{K} \\tilde{u}^k_{ij=j_i^{k*}}\\left( F_{i}\\right)\n",
    "\\end{align*}\n",
    "$$\n",
    "And \n",
    "$$\n",
    "\\begin{align*}\n",
    "    \\frac{1}{K} \\sum_{k=1}^{K} u^k_{ij=j_i^{k*}} \n",
    "\\end{align*}\n",
    "$$\n",
    "For each graduate $i$."
   ]
  },
  {
   "cell_type": "code",
   "execution_count": 125,
   "metadata": {},
   "outputs": [],
   "source": [
    "# Write your answer here "
   ]
  },
  {
   "cell_type": "markdown",
   "metadata": {},
   "source": [
    "After a year of working in their career, the graduates learn $u^k_{ij}$ for their chosen job $j_i^{k*}$ perfectly. <br>\n",
    "The can switch to one of the two remaining careers, for which they have the same prior as before, but it will now include a switching cost of $c$ which is known.\n",
    "Their new priors can be written as: \n",
    "$$\n",
    "\\tilde{u}^{k,2}_{ij}\\left( F_{i}\\right) = \\begin{cases}\n",
    "            \\tilde{u}^k_{ij}\\left( F_{i}\\right)-c & \\text{if } j \\neq j_i^{k*} \\\\\n",
    "            u_{ij=j_i^{k*}} & \\text{if } j = j_i^{k*}\n",
    "        \\end{cases}\n",
    "$$"
   ]
  },
  {
   "cell_type": "markdown",
   "metadata": {},
   "source": [
    "We will set $c=1$."
   ]
  },
  {
   "cell_type": "markdown",
   "metadata": {},
   "source": [
    "Their realized utility will be: <br>\n",
    "$$\n",
    "u^{k,2}_{ij}= \\begin{cases}\n",
    "            u_{ij}^k -c & \\text{if } j \\neq j_i^{k*} \\\\\n",
    "            u_{ij=j_i^{k*}} & \\text{if } j = j_i^{k*}\n",
    "        \\end{cases}\n",
    "$$"
   ]
  },
  {
   "cell_type": "markdown",
   "metadata": {},
   "source": [
    "**Question 3:** Following the same approach as in question 2, find the new optimal career choice for each $i$, $k$. Then for each $i$, calculate the average subjective expected utility from their new optimal career choice, and the ex post realized utility of that career. Also, for each $i$, calculate the share of graduates that chooses to switch careers, conditional on which career they chose in the first year. <br>"
   ]
  },
  {
   "cell_type": "code",
   "execution_count": 126,
   "metadata": {},
   "outputs": [],
   "source": [
    "# write your answer here"
   ]
  },
  {
   "cell_type": "markdown",
   "metadata": {},
   "source": [
    "## 3. <a id='toc3_'></a>[Problem 3: Barycentric interpolation](#toc0_)"
   ]
  },
  {
   "cell_type": "markdown",
   "metadata": {},
   "source": [
    "**Problem:** We have a set of random points in the unit square,\n",
    "\n",
    "$$\n",
    "\\mathcal{X} = \\{(x_1,x_2)\\,|\\,x_1\\sim\\mathcal{U}(0,1),x_2\\sim\\mathcal{U}(0,1)\\}.\n",
    "$$\n",
    "\n",
    "For these points, we know the value of some function $f(x_1,x_2)$,\n",
    "\n",
    "$$\n",
    "\\mathcal{F} = \\{f(x_1,x_2) \\,|\\, (x_1,x_2) \\in \\mathcal{X}\\}.\n",
    "$$\n",
    "\n",
    "Now we want to approximate the value $f(y_1,y_2)$ for some  $y=(y_1,y_2)$, where $y_1\\sim\\mathcal{U}(0,1)$ and $y_2\\sim\\mathcal{U}(0,1)$.\n",
    "\n",
    "**Building block I**\n",
    "\n",
    "For an arbitrary triangle $ABC$ and a point $y$, define the so-called barycentric coordinates as:\n",
    "\n",
    "$$\n",
    "\\begin{align*}\n",
    "  r^{ABC}_1 &= \\frac{(B_2-C_2)(y_1-C_1) + (C_1-B_1)(y_2-C_2)}{(B_2-C_2)(A_1-C_1) + (C_1-B_1)(A_2-C_2)} \\\\\n",
    "  r^{ABC}_2 &= \\frac{(C_2-A_2)(y_1-C_1) + (A_1-C_1)(y_2-C_2)}{(B_2-C_2)(A_1-C_1) + (C_1-B_1)(A_2-C_2)} \\\\\n",
    "  r^{ABC}_3 &= 1 - r_1 - r_2.\n",
    "\\end{align*}\n",
    "$$\n",
    "\n",
    "If $r^{ABC}_1 \\in [0,1]$, $r^{ABC}_2 \\in [0,1]$, and $r^{ABC}_3 \\in [0,1]$, then the point is inside the triangle.\n",
    "\n",
    "We always have $y = r^{ABC}_1 A + r^{ABC}_2 B + r^{ABC}_3 C$.\n",
    "\n",
    "**Building block II**\n",
    "\n",
    "Define the following points:\n",
    "\n",
    "$$\n",
    "\\begin{align*}\n",
    "A&=\\arg\\min_{(x_{1},x_{2})\\in\\mathcal{X}}\\sqrt{\\left(x_{1}-y_{1}\\right)^{2}+\\left(x_{2}-y_{2}\\right)^{2}}\\text{ s.t. }x_{1}>y_{1}\\text{ and }x_{2}>y_{2}\\\\\n",
    "B&=\\arg\\min_{(x_{1},x_{2})\\in\\mathcal{X}}\\sqrt{\\left(x_{1}-y_{1}\\right)^{2}+\\left(x_{2}-y_{2}\\right)^{2}}\\text{ s.t. }x_{1}>y_{1}\\text{ and }x_{2}<y_{2}\\\\\n",
    "C&=\\arg\\min_{(x_{1},x_{2})\\in\\mathcal{X}}\\sqrt{\\left(x_{1}-y_{1}\\right)^{2}+\\left(x_{2}-y_{2}\\right)^{2}}\\text{ s.t. }x_{1}<y_{1}\\text{ and }x_{2}<y_{2}\\\\\n",
    "D&=\\arg\\min_{(x_{1},x_{2})\\in\\mathcal{X}}\\sqrt{\\left(x_{1}-y_{1}\\right)^{2}+\\left(x_{2}-y_{2}\\right)^{2}}\\text{ s.t. }x_{1}<y_{1}\\text{ and }x_{2}>y_{2}.\n",
    "\\end{align*}\n",
    "$$\n",
    "\n",
    "**Algorithm:**\n",
    "\n",
    "1. Compute $A$, $B$, $C$, and $D$. If not possible return `NaN`.\n",
    "1. If $y$ is inside the triangle $ABC$ return $r^{ABC}_1 f(A) + r^{ABC}_2 f(B) + r^{ABC}_3 f(C)$.\n",
    "1. If $y$ is inside the triangle $CDA$ return $r^{CDA}_1 f(C) + r^{CDA}_2 f(D) + r^{CDA}_3 f(A)$.\n",
    "1. Return `NaN`.\n",
    "\n"
   ]
  },
  {
   "cell_type": "code",
   "execution_count": 127,
   "metadata": {},
   "outputs": [],
   "source": [
    "#Imports made for Problem 3\n",
    "from scipy import interpolate\n",
    "from scipy import optimize\n",
    "import matplotlib.pyplot as plt\n",
    "from scipy.interpolate import barycentric_interpolate\n",
    "from scipy.optimize import minimize"
   ]
  },
  {
   "cell_type": "markdown",
   "metadata": {},
   "source": [
    "**Sample:**"
   ]
  },
  {
   "cell_type": "code",
   "execution_count": 128,
   "metadata": {},
   "outputs": [],
   "source": [
    "rng = np.random.default_rng(2024)\n",
    "\n",
    "X = rng.uniform(size=(50,2))\n",
    "y = rng.uniform(size=(2,))\n"
   ]
  },
  {
   "cell_type": "markdown",
   "metadata": {},
   "source": [
    "**Building block I**"
   ]
  },
  {
   "cell_type": "code",
   "execution_count": 129,
   "metadata": {},
   "outputs": [],
   "source": [
    "#We define the barycentric coordinates for the two different triangles, using the same structure as it is given for an arbitrary triangle\n",
    "def barycentric_coordinates_ABC(A_p,B_p,C_p,y):\n",
    "\n",
    "    A = np.array(A_p)\n",
    "    B = np.array(B_p)\n",
    "    C = np.array(C_p)\n",
    "    y = np.array(y)\n",
    "\n",
    "    #We define the denominator as it is the same for r1 and r2\n",
    "    denominator = (B[1]-C[1])*(A[0]-C[0])+(C[0]-B[0])*(A[1]-C[1])\n",
    "    \n",
    "    #We define r1, r2, and r3\n",
    "    r1_ABC = ((B[1]-C[1])*(y[0]-C[0])+(C[0]-B[0])*(y[1]-C[1]))/denominator\n",
    "    r2_ABC = ((C[1]-A[1])*(y[0]-C[0])+(A[0]-C[0])*(y[1]-C[1]))/denominator\n",
    "    r3_ABC = 1-r1_ABC-r2_ABC\n",
    "\n",
    "    return r1_ABC, r2_ABC, r3_ABC\n"
   ]
  },
  {
   "cell_type": "code",
   "execution_count": 130,
   "metadata": {},
   "outputs": [],
   "source": [
    "def barycentric_coordinates_CDA(C_p,D_p,A_p,y):\n",
    "\n",
    "    A = np.array(A_p)\n",
    "    D = np.array(D_p)\n",
    "    C = np.array(C_p)\n",
    "    y = np.array(y)\n",
    "\n",
    "    #We define the denominator as it is the same for r1 and r2\n",
    "    denominator_1 = (D[1]-A[1])*(C[0]-A[0])+(A[0]-D[0])*(C[1]-A[1])\n",
    "    \n",
    "    #We define r1, r2, and r3\n",
    "    r1_CDA = ((D[1]-A[1])*(y[0]-A[0])+(A[0]-D[0])*(y[1]-A[1]))/denominator_1\n",
    "    r2_CDA = ((A[1]-C[1])*(y[0]-A[0])+(C[0]-A[0])*(y[1]-A[1]))/denominator_1\n",
    "    r3_CDA = 1-r1_CDA-r2_CDA\n",
    "\n",
    "    return r1_CDA, r2_CDA, r3_CDA"
   ]
  },
  {
   "cell_type": "markdown",
   "metadata": {},
   "source": [
    "**Building block II**"
   ]
  },
  {
   "cell_type": "code",
   "execution_count": 131,
   "metadata": {},
   "outputs": [],
   "source": [
    "#We define the respective points A_p, B_p, C_p and D_p\n",
    "\n",
    "#At first we define the object of the minimization as it is the same for all points, it is only the constraints that changes\n",
    "def ABCD_object(y):\n",
    "    def objective(x):\n",
    "        return np.sqrt((x[0] - y[0]) ** 2 + (x[1] - y[1]) ** 2)\n",
    "    return objective\n",
    "\n",
    "\n",
    "def A_p(X,y):\n",
    "   constraints_A = ({'type': 'ineq', 'fun': lambda x: x[0] - y[0]},{'type': 'ineq', 'fun': lambda x: x[1] - y[1]})\n",
    "   result_A = optimize.minimize(ABCD_object,np.zeros(2), constraints=constraints_A, method='Nelder-Mead')\n",
    "   return result_A\n",
    "\n",
    "def B_p(X,y):\n",
    "   constraints_B = ({'type': 'ineq', 'fun': lambda x: x[0] - y[0]},{'type': 'ineq', 'fun': lambda x: y[1] - x[1]})\n",
    "   result_B = optimize.minimize(ABCD_object,np.zeros(2), constraints=constraints_B, method='Nelder-Mead')\n",
    "   return result_B\n",
    "\n",
    "def C_p(X,y):\n",
    "   constraints_C = ({'type': 'ineq', 'fun': lambda x: y[0] - x[0]},{'type': 'ineq', 'fun': lambda x: x[1] - y[1]})\n",
    "   result_C = optimize.minimize(ABCD_object,np.zeros(2), constraints=constraints_C, method='Nelder-Mead')\n",
    "   return result_C\n",
    "\n",
    "def D_p(X,y):\n",
    "   constraints_D = ({'type': 'ineq', 'fun': lambda x: y[0] - x[0]},{'type': 'ineq', 'fun': lambda x: y[1] - x[1]})\n",
    "   result_D = optimize.minimize(ABCD_object,np.zeros(2), constraints=constraints_D, method='Nelder-Mead')\n",
    "   return result_D"
   ]
  },
  {
   "cell_type": "markdown",
   "metadata": {},
   "source": [
    "**Algorithm**"
   ]
  },
  {
   "cell_type": "code",
   "execution_count": 132,
   "metadata": {},
   "outputs": [],
   "source": [
    "def compute_ABCD(X, y):\n",
    "    A_1 = A_p(X, y)\n",
    "    B_1 = B_p(X, y)\n",
    "    C_1 = C_p(X, y)\n",
    "    D_1 = D_p(X, y)\n",
    "\n",
    "    if A.success and B.success and C.success and D.success:\n",
    "        A_p_res = A_1.x\n",
    "        B_p_res = B_1.x\n",
    "        C_p_res = C_1.x\n",
    "        D_p_res = D_1.x\n",
    "\n",
    "        return A_p_res, B_p_res, C_p_res, D_p_res\n",
    "    else:\n",
    "        return None\n",
    "    \n",
    "\n",
    "    \n",
    "def inside_ABC(X, y):\n",
    "    result_compute_ABCD = compute_ABCD(X, y)\n",
    "    \n",
    "    if result_compute_ABCD is not None:\n",
    "        A_p_res, B_p_res, C_p_res = result_compute_ABCD\n",
    "        \n",
    "        # Calculate barycentric coordinates for triangle ABC\n",
    "        r1_ABC, r2_ABC, r3_ABC = barycentric_coordinates_ABC(A_p_res, B_p_res, C_p_res, y)\n",
    "        \n",
    "        # Check if the calculated barycentric coordinates are within [0, 1]\n",
    "        if 0 <= r1_ABC <= 1 and 0 <= r2_ABC <= 1 and 0 <= r3_ABC <= 1:\n",
    "            # Return the weighted_sum\n",
    "            weighted_sum = r1_ABC * f(A_p_res) + r2_ABC * f(B_p_res) + r3_ABC * f(C_p_res)\n",
    "            return weighted_sum\n",
    "        \n",
    "        else:\n",
    "            return None  # Handle case where barycentric coordinates are not inside the given interval [0, 1]\n",
    "\n",
    "    else:\n",
    "        return None  # Handle case where compute_ABCD returned None\n",
    "    \n",
    "    \n",
    "def inside_CDA(X, y):\n",
    "    result_compute_ABCD = compute_ABCD(X, y)\n",
    "    \n",
    "    if result_compute_ABCD is not None:\n",
    "        C_p_res, D_p_res, A_p_res = result_compute_ABCD\n",
    "        \n",
    "        # Calculate barycentric coordinates for triangle ABC\n",
    "        r1_CDA, r2_CDA, r3_CDA = barycentric_coordinates_CDA(C_p_res, D_p_res, A_p_res, y)\n",
    "        \n",
    "        # Check if the calculated barycentric coordinates are within [0, 1]\n",
    "        if 0 <= r1_CDA <= 1 and 0 <= r2_CDA <= 1 and 0 <= r3_CDA <= 1:\n",
    "            # Return the weighted_sum\n",
    "            weighted_sum_1 = r1_CDA * f(C_p_res) + r2_CDA * f(D_p_res) + r3_CDA * f(A_p_res)\n",
    "            return weighted_sum_1\n",
    "        \n",
    "        else:\n",
    "            return None  # Handle case where barycentric coordinates are not inside the given interval [0, 1]\n",
    "\n",
    "    else:\n",
    "        return None  # Handle case where compute_ABCD returned None"
   ]
  },
  {
   "cell_type": "markdown",
   "metadata": {},
   "source": [
    "**Questions 1:** Find $A$, $B$, $C$ and $D$. Illustrate these together with $X$, $y$ and the triangles $ABC$ and $CDA$."
   ]
  },
  {
   "cell_type": "code",
   "execution_count": 136,
   "metadata": {},
   "outputs": [
    {
     "name": "stdout",
     "output_type": "stream",
     "text": [
      "Point A: [0.2090399  0.37772528]\n",
      "Point B: [0.2090399  0.37772528]\n",
      "Point C: [0.2090399  0.37772528]\n",
      "Point D: [0.2090399  0.37772528]\n"
     ]
    },
    {
     "data": {
      "image/png": "[encoded data removed]",
      "text/plain": [
       "<Figure size 640x480 with 1 Axes>"
      ]
     },
     "metadata": {},
     "output_type": "display_data"
    }
   ],
   "source": [
    "#Finding ABC by calling on the results computed in the algorithm\n",
    "print(\"Point A:\", A_p_res)\n",
    "print(\"Point B:\", B_p_res)\n",
    "print(\"Point C:\", C_p_res)\n",
    "print(\"Point D:\", D_p_res)\n",
    "\n",
    "# Create a scatter plot for the points\n",
    "plt.scatter(*zip(A_p_res, B_p_res, C_p_res, D_p_res), label=\"Points\")\n",
    "\n",
    "# Plot the triangle ABC\n",
    "plt.plot(*zip(A_p_res, B_p_res, C_p_res, A_p_res), label=\"Triangle ABC\", color=\"blue\")\n",
    "\n",
    "# Plot the triangle CDA\n",
    "plt.plot(*zip(C_p_res, D_p_res, A_p_res, C_p_res), label=\"Triangle CDA\", color=\"red\")\n",
    "\n",
    "# Set axis limits\n",
    "plt.xlim(0, 1)\n",
    "plt.ylim(0, 1)\n",
    "\n",
    "# Add labels and legend\n",
    "plt.xlabel(\"X-axis\")\n",
    "plt.ylabel(\"Y-axis\")\n",
    "plt.title(\"Coordinate system with points A, B, C, D and triangles ABC and CDA\")\n",
    "plt.legend()\n",
    "\n",
    "# Show the plot\n",
    "plt.grid()\n",
    "plt.show()"
   ]
  },
  {
   "cell_type": "markdown",
   "metadata": {},
   "source": [
    "**Question 2:** Compute the barycentric coordinates of the point $y$ with respect to the triangles $ABC$ and $CDA$. Which triangle is $y$ located inside?"
   ]
  },
  {
   "cell_type": "code",
   "execution_count": 134,
   "metadata": {},
   "outputs": [],
   "source": [
    "def barycentric_coordinates_CDA(C_p,D_p,A_p,y):\n",
    "\n",
    "    A = np.array(A_p)\n",
    "    D = np.array(D_p)\n",
    "    C = np.array(C_p)\n",
    "    y = np.array(y)\n",
    "\n",
    "    #We define the denominator as it is the same for r1 and r2\n",
    "    denominator_1 = (D[1]-A[1])*(C[0]-A[0])+(A[0]-D[0])*(C[1]-A[1])\n",
    "    \n",
    "    #We define r1, r2, and r3\n",
    "    r1_CDA = ((D[1]-A[1])*(y[0]-A[0])+(A[0]-D[0])*(y[1]-A[1]))/denominator_1\n",
    "    r2_CDA = ((A[1]-C[1])*(y[0]-A[0])+(C[0]-A[0])*(y[1]-A[1]))/denominator_1\n",
    "    r3_CDA = 1-r1_CDA-r2_CDA\n",
    "\n",
    "    return r1_CDA, r2_CDA, r3_CDA"
   ]
  },
  {
   "cell_type": "code",
   "execution_count": 140,
   "metadata": {},
   "outputs": [
    {
     "name": "stdout",
     "output_type": "stream",
     "text": [
      "[nan nan]\n",
      "[nan nan]\n"
     ]
    },
    {
     "name": "stderr",
     "output_type": "stream",
     "text": [
      "C:\\Users\\Nikoline Laursen\\AppData\\Local\\Temp\\ipykernel_14736\\2180298497.py:13: RuntimeWarning: invalid value encountered in scalar divide\n",
      "  r1_ABC = ((B[1]-C[1])*(y[0]-C[0])+(C[0]-B[0])*(y[1]-C[1]))/denominator\n",
      "C:\\Users\\Nikoline Laursen\\AppData\\Local\\Temp\\ipykernel_14736\\2180298497.py:14: RuntimeWarning: invalid value encountered in scalar divide\n",
      "  r2_ABC = ((C[1]-A[1])*(y[0]-C[0])+(A[0]-C[0])*(y[1]-C[1]))/denominator\n",
      "C:\\Users\\Nikoline Laursen\\AppData\\Local\\Temp\\ipykernel_14736\\3445968938.py:12: RuntimeWarning: invalid value encountered in scalar divide\n",
      "  r1_CDA = ((D[1]-A[1])*(y[0]-A[0])+(A[0]-D[0])*(y[1]-A[1]))/denominator_1\n"
     ]
    }
   ],
   "source": [
    "#We always have\n",
    "r1_ABC, r2_ABC, r3_ABC = barycentric_coordinates_ABC(A_p_res, B_p_res, C_p_res, y)\n",
    "y_ABC = r1_ABC * A_p_res + r2_ABC * B_p_res + r3_ABC * C_p_res\n",
    "print(y_ABC)\n",
    "\n",
    "r1_CDA, r2_CDA, r3_CDA = barycentric_coordinates_CDA(C_p_res, D_p_res, A_p_res, y)\n",
    "y_CDA = r1_CDA * C_p_res + r2_CDA * D_p_res + r3_CDA * A_p_res\n",
    "print(y_CDA)"
   ]
  },
  {
   "cell_type": "markdown",
   "metadata": {},
   "source": [
    "Now consider the function:\n",
    "$$\n",
    "f(x_1,x_2) = x_1 \\cdot x_2\n",
    "$$"
   ]
  },
  {
   "cell_type": "code",
   "execution_count": null,
   "metadata": {},
   "outputs": [],
   "source": [
    "f = lambda x: x[0]*x[1]\n",
    "F = np.array([f(x) for x in X])"
   ]
  },
  {
   "cell_type": "markdown",
   "metadata": {},
   "source": [
    "**Question 3:** Compute the approximation of $f(y)$ using the full algorithm. Compare with the true value."
   ]
  },
  {
   "cell_type": "code",
   "execution_count": null,
   "metadata": {},
   "outputs": [],
   "source": [
    "# write your answer here"
   ]
  },
  {
   "cell_type": "markdown",
   "metadata": {},
   "source": [
    "**Question 4:** Repeat question 3 for all points in the set $Y$."
   ]
  },
  {
   "cell_type": "code",
   "execution_count": null,
   "metadata": {},
   "outputs": [],
   "source": [
    "Y = [(0.2,0.2),(0.8,0.2),(0.8,0.8),(0.8,0.2),(0.5,0.5)]"
   ]
  },
  {
   "cell_type": "code",
   "execution_count": null,
   "metadata": {},
   "outputs": [],
   "source": [
    "# write your answer here"
   ]
  }
 ],
 "metadata": {
  "kernelspec": {
   "display_name": "base",
   "language": "python",
   "name": "python3"
  },
  "language_info": {
   "codemirror_mode": {
    "name": "ipython",
    "version": 3
   },
   "file_extension": ".py",
   "mimetype": "text/x-python",
   "name": "python",
   "nbconvert_exporter": "python",
   "pygments_lexer": "ipython3",
   "version": "3.11.7"
  }
 },
 "nbformat": 4,
 "nbformat_minor": 2
}

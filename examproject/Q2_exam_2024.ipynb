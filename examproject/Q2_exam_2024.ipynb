{
 "cells": [
  {
   "cell_type": "markdown",
   "metadata": {},
   "source": [
    "**Table of contents**<a id='toc0_'></a>    \n",
    "- 1. [Problem 1: Production economy and CO2 taxation](#toc1_)    \n",
    "- 2. [Problem 2: Career choice model](#toc2_)    \n",
    "- 3. [Problem 3: Barycentric interpolation](#toc3_)    \n",
    "\n",
    "<!-- vscode-jupyter-toc-config\n",
    "\tnumbering=true\n",
    "\tanchor=true\n",
    "\tflat=false\n",
    "\tminLevel=2\n",
    "\tmaxLevel=6\n",
    "\t/vscode-jupyter-toc-config -->\n",
    "<!-- THIS CELL WILL BE REPLACED ON TOC UPDATE. DO NOT WRITE YOUR TEXT IN THIS CELL -->"
   ]
  },
  {
   "cell_type": "code",
   "execution_count": 2,
   "metadata": {},
   "outputs": [],
   "source": [
    "# Write your code here\n",
    "import numpy as np\n",
    "from types import SimpleNamespace"
   ]
  },
  {
   "cell_type": "markdown",
   "metadata": {},
   "source": [
    "## 1. <a id='toc1_'></a>[Problem 1: Production economy and CO2 taxation](#toc0_)"
   ]
  },
  {
   "cell_type": "markdown",
   "metadata": {},
   "source": [
    "Consider a production economy with two firms indexed by $j \\in \\{1,2\\}$. Each produce its own good. They solve\n",
    "\n",
    "$$\n",
    "\\begin{align*}\n",
    "\\max_{y_{j}}\\pi_{j}&=p_{j}y_{j}-w_{j}\\ell_{j}\\\\\\text{s.t.}\\;&y_{j}=A\\ell_{j}^{\\gamma}.\n",
    "\\end{align*}\n",
    "$$\n",
    "\n",
    "Optimal firm behavior is\n",
    "\n",
    "$$\n",
    "\\begin{align*}\n",
    "\\ell_{j}^{\\star}(w,p_{j})&=\\left(\\frac{p_{j}A\\gamma}{w}\\right)^{\\frac{1}{1-\\gamma}} \\\\\n",
    "y_{j}^{\\star}(w,p_{j})&=A\\left(\\ell_{j}^{\\star}(w,p_{j})\\right)^{\\gamma}\n",
    "\\end{align*}\n",
    "$$\n",
    "\n",
    "The implied profits are\n",
    "\n",
    "$$\n",
    "\\pi_{j}^*(w,p_{j})=\\frac{1-\\gamma}{\\gamma}w\\cdot\\left(\\frac{p_{j}A\\gamma}{w}\\right)^{\\frac{1}{1-\\gamma}}\n",
    "$$\n",
    "\n",
    "A single consumer supplies labor, and consumes the goods the firms produce. She also recieves the implied profits of the firm.<br>\n",
    "She solves:\n",
    "\n",
    "$$\n",
    "\\begin{align*}\n",
    "U(p_1,p_2,w,\\tau,T) = \\max_{c_{1},c_{2},\\ell} & \\log(c_{1}^{\\alpha}c_{2}^{1-\\alpha})-\\nu\\frac{\\ell^{1+\\epsilon}}{1+\\epsilon} \\\\\n",
    "\\text{s.t.}\\,\\,\\,&p_{1}c_{1}+(p_{2}+\\tau)c_{2}=w\\ell+T+\\pi_{1}^*(w,p_{1})+\\pi_{2}^*(w,p_{2})\n",
    "\\end{align*}\n",
    "$$\n",
    "\n",
    "where $\\tau$ is a tax and $T$ is lump-sum transfer. <br>\n",
    "For a given $\\ell$, it can be shown that optimal behavior is\n",
    "\n",
    "$$\n",
    "\\begin{align*}\n",
    "c_{1}(\\ell)&=\\alpha\\frac{w\\ell+T+\\pi_{1}^*(w,p_{1})+\\pi_{2}^*(w,p_{2})}{p_{1}} \\\\\n",
    "c_{2}(\\ell)&=(1-\\alpha)\\frac{w\\ell+T+\\pi_{1}^*(w,p_{1})+\\pi_{2}^*(w,p_{2})}{p_{2}+\\tau} \\\\\n",
    "\\end{align*}\n",
    "$$\n",
    "Such that optimal behavior is:\n",
    "$$\n",
    "\\ell^* = \\underset{\\ell}{\\arg\\max} \\log(\\left(c_{1}(\\ell)\\right)^{\\alpha}\\cdot \\left(c_{2}(\\ell)\\right)^{1-\\alpha})-\\nu\\frac{\\ell^{1+\\epsilon}}{1+\\epsilon} \n",
    "$$\n",
    "With optimal consumption:\n",
    "$$\n",
    "\\begin{align*}\n",
    "c_1^*=c_{1}(\\ell^*) \\\\\n",
    "c_2^*=c_{2}(\\ell^*)\\\\\n",
    "\\end{align*}\n",
    "$$\n",
    "\n",
    "\n",
    "The government chooses $\\tau$ and balances its budget so $T=\\tau c_2^*$. We initially set $\\tau,T=0$.\n",
    "\n",
    "Market clearing requires:\n",
    "\n",
    "1. Labor market: $\\ell^* = \\ell_1^* + \\ell_2^*$\n",
    "1. Good market 1: $c_1^* = y_1^*$\n",
    "1. Good market 2: $c_2^* = y_2^*$\n"
   ]
  },
  {
   "cell_type": "markdown",
   "metadata": {},
   "source": [
    "**Question 1:** Check market clearing conditions for $p_1$ in `linspace(0.1,2.0,10)` and $p_2$ in `linspace(0.1,2.0,10)`. We choose $w=1$ as numeraire."
   ]
  },
  {
   "cell_type": "code",
   "execution_count": 3,
   "metadata": {},
   "outputs": [],
   "source": [
    "par = SimpleNamespace()\n",
    "\n",
    "# firms\n",
    "par.A = 1.0\n",
    "par.gamma = 0.5\n",
    "\n",
    "# households\n",
    "par.alpha = 0.3\n",
    "par.nu = 1.0\n",
    "par.epsilon = 2.0\n",
    "\n",
    "# government\n",
    "par.tau = 0.0\n",
    "par.T = 0.0\n",
    "\n",
    "# Question 3\n",
    "par.kappa = 0.1"
   ]
  },
  {
   "cell_type": "code",
   "execution_count": 4,
   "metadata": {},
   "outputs": [],
   "source": [
    "# write you answer here"
   ]
  },
  {
   "cell_type": "markdown",
   "metadata": {},
   "source": [
    "**Question 2:** Find the equilibrium prices $p_1$ and $p_2$.<br>\n",
    "*Hint: you can use Walras' law to only check 2 of the market clearings*"
   ]
  },
  {
   "cell_type": "code",
   "execution_count": 5,
   "metadata": {},
   "outputs": [],
   "source": [
    "# write your answer here"
   ]
  },
  {
   "cell_type": "markdown",
   "metadata": {},
   "source": [
    "Assume the government care about the social welfare function:\n",
    "\n",
    "$$\n",
    "SWF = U - \\kappa y_2^*\n",
    "$$"
   ]
  },
  {
   "cell_type": "markdown",
   "metadata": {},
   "source": [
    "Here $\\kappa$ measures the social cost of carbon emitted by the production of $y_2$ in equilibrium."
   ]
  },
  {
   "cell_type": "markdown",
   "metadata": {},
   "source": [
    "**Question 3:** What values of $\\tau$ and (implied) $T$ should the government choose to maximize $SWF$?"
   ]
  },
  {
   "cell_type": "code",
   "execution_count": 6,
   "metadata": {},
   "outputs": [],
   "source": [
    "# write your answer here"
   ]
  },
  {
   "cell_type": "markdown",
   "metadata": {},
   "source": [
    "## 2. <a id='toc2_'></a>[Problem 2: Career choice model](#toc0_)"
   ]
  },
  {
   "cell_type": "markdown",
   "metadata": {},
   "source": [
    "Consider a graduate $i$ making a choice between entering $J$ different career tracks. <br>\n",
    "Entering career $j$ yields utility $u^k_{ij}$. This value is unknown to the graduate ex ante, but will ex post be: <br>\n",
    "$$\n",
    "    u_{i,j}^k = v_{j} + \\epsilon_{i,j}^k\n",
    "$$\n",
    "\n",
    "They know that $\\epsilon^k_{i,j}\\sim \\mathcal{N}(0,\\sigma^2)$, but they do not observe $\\epsilon^k_{i,j}$ before making their career choice. <br>"
   ]
  },
  {
   "cell_type": "markdown",
   "metadata": {},
   "source": [
    "Consider the concrete case of $J=3$ with:\n",
    "$$\n",
    "\\begin{align*}\n",
    "    v_{1} &= 1 \\\\\n",
    "    v_{2} &= 2 \\\\\n",
    "    v_{3} &= 3\n",
    "\\end{align*}\n",
    "$$"
   ]
  },
  {
   "cell_type": "markdown",
   "metadata": {},
   "source": [
    "If the graduates know the values of $v_j$ and the distribution of $\\epsilon_{i,j}^k$, they can calculate the expected utility of each career track using simulation: <br>\n",
    "$$\n",
    "    \\mathbb{E}\\left[ u^k_{i,j}\\vert v_j \\right] \\approx v_j + \\frac{1}{K}\\sum_{k=1}^K \\epsilon_{i,j}^k\n",
    "$$"
   ]
  },
  {
   "cell_type": "code",
   "execution_count": 7,
   "metadata": {},
   "outputs": [],
   "source": [
    "par = SimpleNamespace()\n",
    "par.J = 3\n",
    "par.N = 10 \n",
    "par.K = 10000\n",
    "\n",
    "par.F = np.arange(1,par.N+1)\n",
    "par.sigma = 2\n",
    "\n",
    "par.v = np.array([1,2,3])\n",
    "par.c = 1"
   ]
  },
  {
   "cell_type": "markdown",
   "metadata": {},
   "source": [
    "**Question 1:** Simulate and calculate expected utility and the average realised utility for $K=10000$ draws, for each career choice $j$.\n"
   ]
  },
  {
   "cell_type": "code",
   "execution_count": 8,
   "metadata": {},
   "outputs": [
    {
     "name": "stdout",
     "output_type": "stream",
     "text": [
      "Expected utility of choosing career path 1: 0.996\n",
      "Expected utility of choosing career path 2: 1.996\n",
      "Expected utility of choosing career path 3: 2.996\n",
      "Avg. realised utility of choosing career path 1: 0.996\n",
      "Avg. realised utility of choosing career path 2: 1.996\n",
      "Avg. realised utility of choosing career path 3: 2.996\n"
     ]
    }
   ],
   "source": [
    "# write your answer here\n",
    "from Question2Helper import RandomUtilityClass\n",
    "\n",
    "utility_sim = RandomUtilityClass()\n",
    "utility_sim.ExpUtility_i()\n",
    "utility_sim.AvgUtility_i()\n",
    "\n",
    "#Seed set - Same 10.000 draws used for each career path calculation and thus same error across.\n",
    "#Seed can be removed in RandomUtilityClass to achieve 10.000 unique draws for each career path and each calculation"
   ]
  },
  {
   "cell_type": "markdown",
   "metadata": {},
   "source": [
    "Now consider a new scenario: Imagine that the graduate does not know $v_j$. The *only* prior information they have on the value of each job, comes from their $F_{i}$ friends that work in each career $j$. After talking with them, they know the average utility of their friends (which includes their friends' noise term), giving them the prior expecation: <br>\n",
    "$$\n",
    "\\tilde{u}^k_{i,j}\\left( F_{i}\\right) = \\frac{1}{F_{i}}\\sum_{f=1}^{F_{i}} \\left(v_{j} + \\epsilon^k_{f,j}\\right), \\; \\epsilon^k_{f,j}\\sim \\mathcal{N}(0,\\sigma^2)\n",
    "$$\n",
    "For ease of notation consider that each graduate have $F_{i}=i$ friends in each career. <br>"
   ]
  },
  {
   "cell_type": "markdown",
   "metadata": {},
   "source": [
    "For $K$ times do the following: <br>\n",
    "1. For each person $i$ draw $J\\cdot F_i$ values of $\\epsilon_{f,j}^{k}$, and calculate the prior expected utility of each career track, $\\tilde{u}^k_{i,j}\\left( F_{i}\\right)$. <br>\n",
    "Also draw their own $J$ noise terms, $\\epsilon_{i,j}^k$\n",
    "1. Each person $i$ chooses the career track with the highest expected utility: $$j_i^{k*}= \\arg\\max_{j\\in{1,2\\dots,J}}\\left\\{ \\tilde{u}^k_{i,j}\\left( F_{i}\\right)\\right\\} $$\n",
    "1. Store the chosen careers: $j_i^{k*}$, the prior expectation of the value of their chosen career: $\\tilde{u}^k_{i,j=j_i^{k*}}\\left( F_{i}\\right)$, and the realized value of their chosen career track: $u^k_{i,j=j_i^{k*}}=v_{j=j_i^{k*}}+\\epsilon_{i,j=j_i^{k*}}^k$."
   ]
  },
  {
   "cell_type": "markdown",
   "metadata": {},
   "source": [
    "Chosen values will be: <br>\n",
    "$i\\in\\left\\{1,2\\dots,N\\right\\}, N=10$ <br>\n",
    "$F_i = i$<br>\n",
    "So there are 10 graduates. The first has 1 friend in each career, the second has 2 friends, ... the tenth has 10 friends."
   ]
  },
  {
   "cell_type": "markdown",
   "metadata": {},
   "source": [
    "**Question 2:** Simulate and visualize: For each type of graduate, $i$, the share of graduates choosing each career, the average subjective expected utility of the graduates, and the average ex post realized utility given their choice. <br>\n",
    "That is, calculate and visualize: <br>\n",
    "$$\n",
    "\\begin{align*}\n",
    "    \\frac{1}{K} \\sum_{k=1}^{K} \\mathbb{I}\\left\\{ j=j_i^{k*} \\right\\}  \\;\\forall j\\in\\left\\{1,2,\\dots,J\\right\\}\n",
    "\\end{align*}\n",
    "$$\n",
    "$$\n",
    "\\begin{align*}\n",
    "    \\frac{1}{K} \\sum_{k=1}^{K} \\tilde{u}^k_{ij=j_i^{k*}}\\left( F_{i}\\right)\n",
    "\\end{align*}\n",
    "$$\n",
    "And \n",
    "$$\n",
    "\\begin{align*}\n",
    "    \\frac{1}{K} \\sum_{k=1}^{K} u^k_{ij=j_i^{k*}} \n",
    "\\end{align*}\n",
    "$$\n",
    "For each graduate $i$."
   ]
  },
  {
   "cell_type": "code",
   "execution_count": 171,
   "metadata": {},
   "outputs": [
    {
     "name": "stdout",
     "output_type": "stream",
     "text": [
      "Max exp. utility list: ['3.378', '1.173', '2.017', '4.054', '2.649', '3.180', '3.448', '2.554', '2.928', '2.864']\n",
      "Respective chosen career paths: [3, 2, 2, 3, 1, 2, 3, 3, 3, 3]\n",
      "Actual, realized utility: ['2.007', '2.277', '0.705', '-0.046', '1.468', '2.468', '-0.158', '1.465', '3.939', '1.915']\n"
     ]
    }
   ],
   "source": [
    "####SKIP TO NEXT PY-BOX###\n",
    "par.J = 3\n",
    "par.N = 10 \n",
    "par.K = 1\n",
    "\n",
    "par.F = np.arange(1,par.N+1)\n",
    "par.sigma = 2\n",
    "\n",
    "par.v = np.array([1,2,3])\n",
    "par.c = 1\n",
    "\n",
    "####EXPECTED UTILITY AND CHOSEN CAREER PATH GIVEN FRIENDS' SIGNAL####\n",
    "\n",
    "utilities = np.zeros((par.N, par.J))\n",
    "max_utilities = []\n",
    "career_path_list = []\n",
    "\n",
    "for idx in range(par.N):\n",
    "    num_friends = par.F[idx]\n",
    "    max_utility = -np.inf\n",
    "    for j in range(par.J):\n",
    "        rng = np.random.default_rng(seed=idx * par.J + j)\n",
    "        information_from_friends = rng.normal(loc=0, scale=par.sigma, size=num_friends)\n",
    "        #print(f\"Person {idx+1}'s friends choosing career path {j+1} have noise term mean: {np.mean(information_from_friends):.3f}\")\n",
    "\n",
    "        utility = np.mean(information_from_friends)+par.v[j]\n",
    "        utilities[idx, j] = utility\n",
    "        #print(f\"Person {idx+1}'s, Prior exp. utility of Career Path {j+1} is: {utility:.3f}\")\n",
    "\n",
    "        if utility > max_utility:\n",
    "            max_utility = utility\n",
    "            max_utility_index = j+1\n",
    "        \n",
    "    max_utilities.append(max_utility)\n",
    "    career_path_list.append(max_utility_index)\n",
    "\n",
    "    #print(f\"Hence, for Person {idx+1}:\")\n",
    "    #print(f\"Max exp. utility is {max_utility:.3f} w. Career Path {max_utility_index}\\n\")\n",
    "\n",
    "print('Max exp. utility list:', [f'{value:.3f}' for value in max_utilities])\n",
    "print(\"Respective chosen career paths:\", career_path_list)\n",
    "\n",
    "####REALIZED UTILITY WHEN CAREER PATH CHOSEN####\n",
    "realized_utility_list=[]\n",
    "np.random.seed(42)\n",
    "for value in career_path_list:\n",
    "    if value == 1:\n",
    "        result = par.v[0] - np.random.normal(loc=0,scale=par.sigma)\n",
    "    elif value == 2:\n",
    "        result = par.v[1] - np.random.normal(loc=0,scale=par.sigma)\n",
    "    elif value == 3:\n",
    "        result = par.v[2] - np.random.normal(loc=0,scale=par.sigma)\n",
    "    realized_utility_list.append(result)\n",
    "\n",
    "# Print the resulting list\n",
    "print('Actual, realized utility:', [f'{value:.3f}' for value in realized_utility_list])\n",
    "\n",
    "\n"
   ]
  },
  {
   "cell_type": "code",
   "execution_count": 176,
   "metadata": {},
   "outputs": [
    {
     "name": "stdout",
     "output_type": "stream",
     "text": [
      "Example run of max expected utilities: ['3.283', '3.184', '4.713', '2.042', '5.615', '3.436', '3.294', '4.028', '2.223', '2.951']\n",
      "Example run of chosen career paths: [3, 3, 3, 3, 3, 3, 3, 3, 2, 3]\n",
      "Example run of realized utilities: ['0.622', '2.403', '1.713', '-0.088', '2.769', '3.514', '2.523', '1.200', '1.933', '4.290']\n",
      "[[3.2828835893070556, 3.1841527278608472, 4.713149847469663, 2.0418112852138606, 5.61519527943082, 3.4361865559597313, 3.293870348202331, 4.027513128771842, 2.2234299520644805, 2.9512762722000176], [3.268214760022652, 3.849424393196028, 3.12374712245437, 4.543791152786115, 2.730317667625517, 2.829190574799928, 4.092014044552073, 3.758271987085765, 3.2128794327731134, 2.9551311680034833], [4.6538984983802525, 3.8148529434810605, 2.9405526479669715, 4.024703865293014, 1.9376917348910012, 3.689618729176516, 3.743694376873739, 3.950340375561934, 2.687729615965098, 4.23399894480846], [4.934365530182737, 3.3890756358451535, 3.5442098979629644, 4.899299977685431, 2.1618203694626312, 2.2302384971130547, 2.287542181208447, 2.1984461798133914, 2.758699204235719, 2.7717734115654435], [4.436244776781657, 5.305920569649459, 3.881067145281806, 3.446352287780571, 2.8245457320997045, 2.332484335837188, 3.3128259923284755, 4.123484118257401, 2.942955850909527, 2.9791230682963272], [2.9861446617375926, 3.4813964191808244, 2.9699917956750723, 2.4193744896838054, 2.2853731077363144, 3.6569747030145296, 2.4473404927317053, 2.560613542351816, 4.168745356645997, 2.834938830561497], [5.623187067476838, 3.362712008358259, 3.0795536563896335, 4.210390585703497, 3.1297415249704152, 2.2455053673989043, 2.0211188420536486, 3.2800945929174805, 2.393142717284188, 2.352556536376593], [5.481466103914132, 3.2872057221365587, 3.893455426836558, 3.715760447904003, 3.9621218876216724, 3.308960163041357, 2.932337666020888, 3.0446433096016783, 2.8087092202367594, 3.0329521179083803], [3.946906837106688, 3.6714029056665107, 1.974711213318333, 6.144144948976387, 2.6808374734833564, 2.07215683953828, 3.529937762993616, 3.0248110687339578, 2.906452834367405, 3.3470002909738463], [4.567147482402982, 3.9602877184594756, 4.736997517293011, 1.9554303918306783, 4.151487506510675, 3.3772941429545744, 4.120230740855113, 3.9183291291990097, 2.407189248753582, 2.158826715887969], [1.9044262656272004, 2.677308071107012, 2.970226010814153, 3.3974411616923956, 3.066635790924014, 2.501492118264822, 1.459027726273764, 2.8494336189520713, 1.8485195681784172, 2.747686813755875], [2.1478844278349847, 3.9474276057085103, 2.6379724794090396, 3.3228526990600877, 2.872104976123227, 3.1065554883322717, 4.458844106296332, 2.5449413500003937, 2.214383646734539, 3.9683656920820556], [2.156819973867829, 5.811325057073915, 3.4652165031490454, 4.151345087990901, 2.7492387030304917, 3.1155009534418734, 2.5529386741943156, 3.8465654672919793, 3.222335448696942, 2.6226025381067375], [0.9148718232637232, 1.9540274865488239, 3.1388785870469285, 1.4891082935949993, 3.036834029487512, 3.3932337381554416, 4.9497623075832955, 2.96624587793269, 3.2906804145137083, 3.4539677387690637], [2.747740343427605, 3.1893201436653094, 2.2916720983320276, 4.967844250615073, 3.139617807014778, 3.343374482783297, 3.355751729835679, 2.963838734176025, 3.1399593528443046, 2.6069275845436914], [5.260739580790855, 2.776565989369233, 4.956732963026372, 2.659041740928428, 4.082570430586567, 3.8433740164393195, 3.377999963671284, 3.2276654349171383, 3.1805755984784163, 2.9936979822375425], [6.4682599162397185, 4.072160578455861, 3.671290913834784, 2.649426582944804, 2.01372826887545, 2.4840707190934896, 3.285089336360877, 3.0924037162278246, 2.924822294266286, 3.7108898202900704], [4.193398299362881, 4.32681598069391, 1.5435440590903418, 2.544200078363091, 3.3162240969841426, 3.3462719803086727, 2.53121957406589, 3.9724291536050615, 2.1869968623334524, 1.8144424276758953], [3.77622260460722, 4.321247480418931, 3.922695009400437, 2.9885809193901935, 3.585973380724324, 3.1928604380858303, 2.245757825559428, 3.630031810255469, 2.4236688097317494, 2.6124436513362856], [6.528249773761013, 2.9200022229048366, 4.241296315847533, 4.237610902867883, 2.9433466947620337, 3.1106065523488935, 2.591253335218843, 3.149307321216, 2.254903320462045, 2.8381186695594436], [4.776012046583617, 3.3236790752285628, 3.992553229710787, 4.645732345171702, 2.8761092334017855, 3.100941718209478, 3.010425731024853, 3.711891966934335, 4.101589537922586, 3.0448569904804943], [2.5884295974558174, 3.9660836128381654, 2.781310618339849, 3.345509585070065, 4.033921472331471, 2.925595427587273, 2.4730765912935797, 3.5235268639682333, 2.045991196274288, 2.8381550831949878], [3.6533153143839865, 2.8798439523838324, 2.1716097226558646, 3.1390472952721287, 3.271496315633147, 3.493456946991772, 2.5951095999439406, 2.7251879887888264, 3.6452219589520274, 2.3666178156564315], [1.9115531861864214, 3.293514409858834, 2.842133778452011, 2.3163805741777725, 3.312383801449288, 3.2975404813243303, 3.589833456502702, 2.587546900922417, 2.869184407965103, 2.875417029271013], [4.077522321246244, 3.6695794374620085, 5.056239498857055, 2.9290122259868783, 2.9630274373107124, 3.3512819156197398, 3.5639845187622656, 3.1748020616616075, 2.000765436947128, 4.058597802833912], [6.214106454187872, 4.820046345426496, 1.5371741861433117, 3.091166347350439, 4.007723488814921, 2.9529276384722687, 3.4679337591034027, 3.0937279393387946, 2.2939934794272174, 2.8709264223395534], [6.034485873355581, 2.896920886787913, 3.312192728456621, 3.2609544422516477, 2.1941994897474144, 2.577598144062248, 3.695473459290995, 3.5960972086362757, 3.935630948672759, 2.884905530096071], [4.737863205963482, 4.172859191643264, 2.649888332497166, 5.0658112031967315, 4.138259305533934, 2.95160821500401, 3.6288464812302292, 2.4700714488558506, 2.785561187464617, 3.2309848134610557], [2.1753112556459993, 3.0048221369564723, 4.225459881842262, 2.9268210660775402, 4.190433569499129, 3.352623912324189, 2.1023877084686178, 2.569070753936035, 3.559460944931081, 3.0283921779731884], [5.041056984849402, 3.1509118730002585, 6.519415670911151, 3.8170911855234535, 2.4059209036129117, 3.9108618946598868, 3.0337386872163554, 2.4109464714812825, 3.642913343693551, 3.11658715996661], [5.9061902744450645, 2.278482647841188, 4.902325919273442, 3.495666408354051, 3.436579043858812, 1.7860641384736384, 3.437024267555593, 2.3698625742972137, 2.6925400205863967, 3.675201252948953], [3.7243398761504936, 3.22807993025853, 3.16876235747688, 3.8282624948849078, 3.641078187672182, 3.989353644333529, 3.9875346255927866, 2.230774775189791, 2.7115848608953033, 2.8861585910002825], [1.4114691546332836, 2.848049389988974, 4.423959360669215, 2.799554393178891, 3.6099938058206815, 2.3574511449196214, 3.067871611122919, 2.4661932664854267, 2.791371029512066, 2.4038087975104006], [5.978006032443682, 3.444242326817803, 2.3200043410015208, 3.188932340945149, 4.012247847622769, 2.9912995360929386, 2.7746650159003323, 3.2006011315011036, 3.691506993527433, 2.5147300088373368], [2.4660015070767125, 4.25725808166689, 5.166582590948929, 2.995298359685428, 3.2618373229524105, 3.52737640467567, 3.46132834599138, 3.279782648031467, 2.312242135343066, 2.3628192176083918], [3.782555879646506, 4.549678879748889, 4.144269291737649, 2.9181694259133315, 3.7499065099166153, 3.0285603638965304, 2.931698480846106, 4.142086742037373, 4.060053273429018, 2.9179281354015583], [1.7580015632447434, 4.317399951085836, 4.942023964196927, 4.7736471613754805, 2.2919986031335093, 2.340062670319208, 2.904085484198617, 2.446427361171412, 2.9594142466739477, 2.4606141379063935], [4.215803608436118, 3.5041488777525958, 2.9722900371513825, 2.5737482648637466, 3.2055975883492285, 3.4413214274504362, 2.9718470909063264, 2.8194859653003888, 3.4959009282457343, 2.2431533164838005], [3.7857596280822685, 2.8985773590743924, 5.7557188928910055, 1.1488514306391515, 3.5966729815748497, 3.353330393078126, 2.632056225160647, 2.8615894821619605, 3.8991247732862577, 2.9769430078006973], [5.439408098532207, 4.097797759503637, 1.460914026437659, 2.4008103576170994, 2.2260253632402627, 3.9331145657948623, 2.941716162402235, 2.3664988131061353, 4.121890638846611, 2.310901341417958], [2.647136403039216, 2.7289227583606497, 2.730622274960216, 4.94236057682544, 2.7217717797039453, 2.9526708144755593, 3.374679102586808, 2.665995403906374, 3.3079805007107588, 4.110980736510637], [2.6078536608536043, 2.681650615198729, 6.441909912550901, 1.7718587409943511, 4.029346611305046, 3.121784253016909, 3.3924289324232446, 2.9897068318612607, 3.207748325861152, 2.259028289511043], [4.9877546967785005, 4.546682370680348, 2.482848508941412, 3.398267795939799, 2.9174962613882958, 3.1526067554321235, 2.4669927480093805, 4.62654262891891, 2.802853432260962, 3.6546265503502102], [4.1380871328328706, 3.719098093255429, 4.488286628168571, 2.1864342507827486, 4.769910840809927, 2.6580056914527797, 3.533127074819739, 2.4975261138526514, 3.4587436261855706, 3.006423392987974], [3.2200019200672227, 0.7481287657958502, 1.6583619661964795, 3.9715886953320245, 3.3410482114002433, 2.4566757927671796, 3.3021362892729655, 2.9803297251621106, 3.1426689210479206, 3.3291780430419142], [2.985365243907299, 5.613818808877273, 2.978837298590457, 3.0713173148617523, 2.6943773576633974, 2.9931673653767725, 2.611064475873414, 3.642486778129167, 2.5567247654090455, 2.858836431102992], [4.77953766644032, 2.8929448039439323, 2.0325114620776437, 2.566343550887849, 3.0856730896169537, 1.8548263294782275, 3.8956987436799126, 3.2995455409888215, 3.0126806437468256, 2.610301511104364], [5.546889266803874, 4.048945200586426, 3.5874498830408355, 1.7604638414134848, 2.950310340127724, 3.2445437270608113, 2.789479367334086, 1.6378266259997445, 3.7382099521317023, 3.029076819225091], [4.80344931738288, 1.829373162194877, 2.4737023368677633, 1.8661749761834963, 3.8789426984701145, 4.783761994334019, 3.3008056293644463, 2.664069006665991, 2.9772337294011386, 3.342358669148745], [3.794254988399855, 4.525889417991423, 1.987822057765425, 4.213775142880319, 3.758891487136453, 2.92697121947719, 2.612680730792738, 3.2575695599106744, 3.174006004913305, 2.7387896904579323]]\n"
     ]
    }
   ],
   "source": [
    "import numpy as np\n",
    "\n",
    "# Define the parameters\n",
    "\n",
    "par.J = 3\n",
    "par.N = 10 \n",
    "par.K = 10000\n",
    "par.F = np.arange(1, par.N + 1)\n",
    "par.sigma = 2\n",
    "par.v = np.array([1, 2, 3])\n",
    "par.c = 1\n",
    "\n",
    "def simulate_once(par):\n",
    "    utilities = np.zeros((par.N, par.J))\n",
    "    max_utilities = []\n",
    "    career_path_list = []\n",
    "\n",
    "    #Finding the number of friends for each person in the index\n",
    "    for idx in range(par.N):\n",
    "        num_friends = par.F[idx]\n",
    "        max_utility = -np.inf\n",
    "        #Finding the friends' noise term and calculating the prior expectation utility:\n",
    "        for j in range(par.J):\n",
    "            information_from_friends = rng.normal(loc=0, scale=par.sigma, size=num_friends)\n",
    "\n",
    "            utility = np.mean(information_from_friends) + par.v[j]\n",
    "            utilities[idx, j] = utility\n",
    "\n",
    "            #Finding the career path with highest prior expectation and appending\n",
    "            if utility > max_utility:\n",
    "                max_utility = utility\n",
    "                max_utility_index = j + 1\n",
    "\n",
    "        max_utilities.append(max_utility)\n",
    "        career_path_list.append(max_utility_index)\n",
    "\n",
    "    #Creating a for-if-elif-loop. If chosen career is 1,2 or 3 - calculate realized utility w. person's own noise term\n",
    "    realized_utility_list = []\n",
    "    for value in career_path_list:\n",
    "        if value == 1:\n",
    "            result = par.v[0] - rng.normal(loc=0, scale=par.sigma)\n",
    "        elif value == 2:\n",
    "            result = par.v[1] - rng.normal(loc=0, scale=par.sigma)\n",
    "        elif value == 3:\n",
    "            result = par.v[2] - rng.normal(loc=0, scale=par.sigma)\n",
    "        realized_utility_list.append(result)\n",
    "\n",
    "    return max_utilities, career_path_list, realized_utility_list\n",
    "\n",
    "#Lists & parameters to store values from all 10.000 simulations\n",
    "num_simulations = par.K\n",
    "all_max_utilities = []\n",
    "all_career_paths = []\n",
    "all_realized_utilities = []\n",
    "\n",
    "#Storing results from each simulation\n",
    "for i in range(num_simulations):\n",
    "    max_utilities, career_paths, realized_utilities = simulate_once(par)\n",
    "    all_max_utilities.append(max_utilities)\n",
    "    all_career_paths.append(career_paths)\n",
    "    all_realized_utilities.append(realized_utilities)\n",
    "\n",
    "#Example of results. ISSUE! No seed set! We cannot reproduce results. If seed set --> no random generation in each simulation!\n",
    "print('Example run of max expected utilities:', [f'{value:.3f}' for value in all_max_utilities[0]])\n",
    "print('Example run of chosen career paths:', all_career_paths[0])\n",
    "print('Example run of realized utilities:', [f'{value:.3f}' for value in all_realized_utilities[0]])\n",
    "first_50=all_max_utilities[:50]\n",
    "print(first_50)"
   ]
  },
  {
   "cell_type": "markdown",
   "metadata": {},
   "source": [
    "After a year of working in their career, the graduates learn $u^k_{ij}$ for their chosen job $j_i^{k*}$ perfectly. <br>\n",
    "The can switch to one of the two remaining careers, for which they have the same prior as before, but it will now include a switching cost of $c$ which is known.\n",
    "Their new priors can be written as: \n",
    "$$\n",
    "\\tilde{u}^{k,2}_{ij}\\left( F_{i}\\right) = \\begin{cases}\n",
    "            \\tilde{u}^k_{ij}\\left( F_{i}\\right)-c & \\text{if } j \\neq j_i^{k*} \\\\\n",
    "            u_{ij=j_i^{k*}} & \\text{if } j = j_i^{k*}\n",
    "        \\end{cases}\n",
    "$$"
   ]
  },
  {
   "cell_type": "markdown",
   "metadata": {},
   "source": [
    "We will set $c=1$."
   ]
  },
  {
   "cell_type": "markdown",
   "metadata": {},
   "source": [
    "Their realized utility will be: <br>\n",
    "$$\n",
    "u^{k,2}_{ij}= \\begin{cases}\n",
    "            u_{ij}^k -c & \\text{if } j \\neq j_i^{k*} \\\\\n",
    "            u_{ij=j_i^{k*}} & \\text{if } j = j_i^{k*}\n",
    "        \\end{cases}\n",
    "$$"
   ]
  },
  {
   "cell_type": "markdown",
   "metadata": {},
   "source": [
    "**Question 3:** Following the same approach as in question 2, find the new optimal career choice for each $i$, $k$. Then for each $i$, calculate the average subjective expected utility from their new optimal career choice, and the ex post realized utility of that career. Also, for each $i$, calculate the share of graduates that chooses to switch careers, conditional on which career they chose in the first year. <br>"
   ]
  },
  {
   "cell_type": "code",
   "execution_count": null,
   "metadata": {},
   "outputs": [],
   "source": [
    "# write your answer here"
   ]
  },
  {
   "cell_type": "markdown",
   "metadata": {},
   "source": [
    "## 3. <a id='toc3_'></a>[Problem 3: Barycentric interpolation](#toc0_)"
   ]
  },
  {
   "cell_type": "markdown",
   "metadata": {},
   "source": [
    "**Problem:** We have a set of random points in the unit square,\n",
    "\n",
    "$$\n",
    "\\mathcal{X} = \\{(x_1,x_2)\\,|\\,x_1\\sim\\mathcal{U}(0,1),x_2\\sim\\mathcal{U}(0,1)\\}.\n",
    "$$\n",
    "\n",
    "For these points, we know the value of some function $f(x_1,x_2)$,\n",
    "\n",
    "$$\n",
    "\\mathcal{F} = \\{f(x_1,x_2) \\,|\\, (x_1,x_2) \\in \\mathcal{X}\\}.\n",
    "$$\n",
    "\n",
    "Now we want to approximate the value $f(y_1,y_2)$ for some  $y=(y_1,y_2)$, where $y_1\\sim\\mathcal{U}(0,1)$ and $y_2\\sim\\mathcal{U}(0,1)$.\n",
    "\n",
    "**Building block I**\n",
    "\n",
    "For an arbitrary triangle $ABC$ and a point $y$, define the so-called barycentric coordinates as:\n",
    "\n",
    "$$\n",
    "\\begin{align*}\n",
    "  r^{ABC}_1 &= \\frac{(B_2-C_2)(y_1-C_1) + (C_1-B_1)(y_2-C_2)}{(B_2-C_2)(A_1-C_1) + (C_1-B_1)(A_2-C_2)} \\\\\n",
    "  r^{ABC}_2 &= \\frac{(C_2-A_2)(y_1-C_1) + (A_1-C_1)(y_2-C_2)}{(B_2-C_2)(A_1-C_1) + (C_1-B_1)(A_2-C_2)} \\\\\n",
    "  r^{ABC}_3 &= 1 - r_1 - r_2.\n",
    "\\end{align*}\n",
    "$$\n",
    "\n",
    "If $r^{ABC}_1 \\in [0,1]$, $r^{ABC}_2 \\in [0,1]$, and $r^{ABC}_3 \\in [0,1]$, then the point is inside the triangle.\n",
    "\n",
    "We always have $y = r^{ABC}_1 A + r^{ABC}_2 B + r^{ABC}_3 C$.\n",
    "\n",
    "**Building block II**\n",
    "\n",
    "Define the following points:\n",
    "\n",
    "$$\n",
    "\\begin{align*}\n",
    "A&=\\arg\\min_{(x_{1},x_{2})\\in\\mathcal{X}}\\sqrt{\\left(x_{1}-y_{1}\\right)^{2}+\\left(x_{2}-y_{2}\\right)^{2}}\\text{ s.t. }x_{1}>y_{1}\\text{ and }x_{2}>y_{2}\\\\\n",
    "B&=\\arg\\min_{(x_{1},x_{2})\\in\\mathcal{X}}\\sqrt{\\left(x_{1}-y_{1}\\right)^{2}+\\left(x_{2}-y_{2}\\right)^{2}}\\text{ s.t. }x_{1}>y_{1}\\text{ and }x_{2}<y_{2}\\\\\n",
    "C&=\\arg\\min_{(x_{1},x_{2})\\in\\mathcal{X}}\\sqrt{\\left(x_{1}-y_{1}\\right)^{2}+\\left(x_{2}-y_{2}\\right)^{2}}\\text{ s.t. }x_{1}<y_{1}\\text{ and }x_{2}<y_{2}\\\\\n",
    "D&=\\arg\\min_{(x_{1},x_{2})\\in\\mathcal{X}}\\sqrt{\\left(x_{1}-y_{1}\\right)^{2}+\\left(x_{2}-y_{2}\\right)^{2}}\\text{ s.t. }x_{1}<y_{1}\\text{ and }x_{2}>y_{2}.\n",
    "\\end{align*}\n",
    "$$\n",
    "\n",
    "**Algorithm:**\n",
    "\n",
    "1. Compute $A$, $B$, $C$, and $D$. If not possible return `NaN`.\n",
    "1. If $y$ is inside the triangle $ABC$ return $r^{ABC}_1 f(A) + r^{ABC}_2 f(B) + r^{ABC}_3 f(C)$.\n",
    "1. If $y$ is inside the triangle $CDA$ return $r^{CDA}_1 f(C) + r^{CDA}_2 f(D) + r^{CDA}_3 f(A)$.\n",
    "1. Return `NaN`.\n",
    "\n"
   ]
  },
  {
   "cell_type": "markdown",
   "metadata": {},
   "source": [
    "**Sample:**"
   ]
  },
  {
   "cell_type": "code",
   "execution_count": null,
   "metadata": {},
   "outputs": [],
   "source": [
    "rng = np.random.default_rng(2024)\n",
    "\n",
    "X = rng.uniform(size=(50,2))\n",
    "y = rng.uniform(size=(2,))\n",
    "\n",
    "\n"
   ]
  },
  {
   "cell_type": "markdown",
   "metadata": {},
   "source": [
    "**Questions 1:** Find $A$, $B$, $C$ and $D$. Illustrate these together with $X$, $y$ and the triangles $ABC$ and $CDA$."
   ]
  },
  {
   "cell_type": "code",
   "execution_count": null,
   "metadata": {},
   "outputs": [],
   "source": [
    "# write your answer here"
   ]
  },
  {
   "cell_type": "markdown",
   "metadata": {},
   "source": [
    "**Question 2:** Compute the barycentric coordinates of the point $y$ with respect to the triangles $ABC$ and $CDA$. Which triangle is $y$ located inside?"
   ]
  },
  {
   "cell_type": "code",
   "execution_count": null,
   "metadata": {},
   "outputs": [],
   "source": [
    "# write your answer here"
   ]
  },
  {
   "cell_type": "markdown",
   "metadata": {},
   "source": [
    "Now consider the function:\n",
    "$$\n",
    "f(x_1,x_2) = x_1 \\cdot x_2\n",
    "$$"
   ]
  },
  {
   "cell_type": "code",
   "execution_count": null,
   "metadata": {},
   "outputs": [],
   "source": [
    "f = lambda x: x[0]*x[1]\n",
    "F = np.array([f(x) for x in X])"
   ]
  },
  {
   "cell_type": "markdown",
   "metadata": {},
   "source": [
    "**Question 3:** Compute the approximation of $f(y)$ using the full algorithm. Compare with the true value."
   ]
  },
  {
   "cell_type": "code",
   "execution_count": null,
   "metadata": {},
   "outputs": [],
   "source": [
    "# write your answer here"
   ]
  },
  {
   "cell_type": "markdown",
   "metadata": {},
   "source": [
    "**Question 4:** Repeat question 3 for all points in the set $Y$."
   ]
  },
  {
   "cell_type": "code",
   "execution_count": null,
   "metadata": {},
   "outputs": [],
   "source": [
    "Y = [(0.2,0.2),(0.8,0.2),(0.8,0.8),(0.8,0.2),(0.5,0.5)]"
   ]
  },
  {
   "cell_type": "code",
   "execution_count": null,
   "metadata": {},
   "outputs": [],
   "source": [
    "# write your answer here"
   ]
  }
 ],
 "metadata": {
  "kernelspec": {
   "display_name": "base",
   "language": "python",
   "name": "python3"
  },
  "language_info": {
   "codemirror_mode": {
    "name": "ipython",
    "version": 3
   },
   "file_extension": ".py",
   "mimetype": "text/x-python",
   "name": "python",
   "nbconvert_exporter": "python",
   "pygments_lexer": "ipython3",
   "version": "3.11.7"
  }
 },
 "nbformat": 4,
 "nbformat_minor": 2
}
